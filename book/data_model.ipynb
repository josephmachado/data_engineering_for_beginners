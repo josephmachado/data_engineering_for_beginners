{
 "cells": [
  {
   "cell_type": "markdown",
   "id": "2aeb9e29-3729-4f34-aa39-d43d55c3f1ad",
   "metadata": {},
   "source": [
    "---\n",
    "title: \"Data modeling is the process of getting data ready for analyticsUse SQL to transform data\"\n",
    "format:\n",
    "  html:\n",
    "    toc: true\n",
    "execute:\n",
    "    eval: false\n",
    "    output: true\n",
    "---"
   ]
  },
  {
   "cell_type": "markdown",
   "id": "a6cd5456-1532-4b21-8587-125932d43469",
   "metadata": {},
   "source": [
    "\n",
    "\n",
    "As a data engineer your key objective is to enable stakeholders to be able to use data effectively to answer questions about business performance and predict how a business may perform in the future.\n",
    "\n",
    "Most companies production system store data in denormalized tables across multiple microservices, which make analytics hard as the data user will now be required to join across multiple tables. If your company uses a microservice architetcure this becomes impossible.\n",
    "\n",
    "Analytical querying often require processing large amounts of data which can have a significant impact on the database performance which is usually unacceptable for production systems.\n",
    "\n",
    "Production system ususaly only stores current state and does not store a log of changes, which is typically necessary for historical analysis\n",
    "\n",
    "Most companies produce event(click tracking, e-commerce ordering, server logs monitoring, etc ) which are usually too large to be stored and queried efficiently in a production database\n",
    "\n",
    "These are some of the reasons you need a warehouse system to be able to analyze historical information.\n",
    "\n",
    "add: image moving from denormalized tables to star schema to normalized tables\n"
   ]
  }
 ],
 "metadata": {
  "kernelspec": {
   "display_name": "Python 3 (ipykernel)",
   "language": "python",
   "name": "python3"
  },
  "language_info": {
   "codemirror_mode": {
    "name": "ipython",
    "version": 3
   },
   "file_extension": ".py",
   "mimetype": "text/x-python",
   "name": "python",
   "nbconvert_exporter": "python",
   "pygments_lexer": "ipython3",
   "version": "3.10.16"
  }
 },
 "nbformat": 4,
 "nbformat_minor": 5
}
