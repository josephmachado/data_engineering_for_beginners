{
 "cells": [
  {
   "cell_type": "markdown",
   "id": "c52615f8-3a79-4d87-84c0-20a9cb722a4e",
   "metadata": {},
   "source": [
    "---\n",
    "title: \"Read data, Combine tables, & aggregate numbers to understand business performance\"\n",
    "format:\n",
    "  html:\n",
    "    toc: true\n",
    "execute:\n",
    "    eval: false\n",
    "    output: true\n",
    "---"
   ]
  },
  {
   "cell_type": "markdown",
   "id": "71374709-9fe9-4f88-add3-1377747ee126",
   "metadata": {},
   "source": [
    "## Setup\n",
    "\n",
    "To run the code, you need to generate the data and load it into Spark tables. Use the script below to do this:"
   ]
  },
  {
   "cell_type": "code",
   "execution_count": null,
   "id": "a89fe50d-cb98-4076-9090-f6e37381eec9",
   "metadata": {},
   "outputs": [],
   "source": [
    "%%capture\n",
    "%%bash\n",
    "python ./generate_data.py\n",
    "python ./run_ddl.py"
   ]
  },
  {
   "cell_type": "markdown",
   "id": "302f9db4-2d0c-4c87-97ba-44789c6fc905",
   "metadata": {},
   "source": [
    "\n",
    "## A Spark catalog can have multiple schemas, & schemas can have multiple tables\n",
    "\n",
    "Typically, database servers can have multiple databases; each database can have multiple schemas. Each schema can have multiple tables, and each table can have multiple columns.\n",
    "\n",
    "**Note:** We use Trino, which has `catalogs` that allow it to connect with the different underlying systems. (e.g., Postgres, Redis, Hive, etc.)\n",
    "\n",
    "In our lab, we use Trino, and we can check the available catalogs, their schemas, the tables in a schema, & the columns in a table, as shown below.\n"
   ]
  },
  {
   "cell_type": "code",
   "execution_count": null,
   "id": "02132dc2-f3c0-4f73-b114-dd842733396f",
   "metadata": {},
   "outputs": [],
   "source": [
    "%%sql \n",
    "show catalogs;"
   ]
  },
  {
   "cell_type": "code",
   "execution_count": null,
   "id": "6b1b039d-c3a5-4cbe-ad2f-d6b98d7d0a6b",
   "metadata": {},
   "outputs": [],
   "source": [
    "%%sql\n",
    "show schemas IN demo;\n",
    "\n",
    "-- Catalog -> schema"
   ]
  },
  {
   "cell_type": "code",
   "execution_count": null,
   "id": "2910df74-b545-471e-9a46-68154672dafe",
   "metadata": {},
   "outputs": [],
   "source": [
    "%%sql\n",
    "show schemas IN prod;\n",
    "\n",
    "-- schema -> namespace"
   ]
  },
  {
   "cell_type": "code",
   "execution_count": null,
   "id": "08b61f4b-463e-499b-afd6-5ce917bfaef3",
   "metadata": {},
   "outputs": [],
   "source": [
    "%%sql\n",
    "show tables IN prod.db -- namespace -> Table"
   ]
  },
  {
   "cell_type": "code",
   "execution_count": null,
   "id": "9af200c8-9e22-4efd-921d-d33216e1a6c8",
   "metadata": {},
   "outputs": [],
   "source": [
    "%%sql --show\n",
    "select * from prod.db.customer limit 2"
   ]
  },
  {
   "cell_type": "markdown",
   "id": "d1957388-0b29-4ce2-8d6d-3220bfcee361",
   "metadata": {},
   "source": [
    "Note how, when referencing the table name, we use the full path, i.e., `schema.table_name`. We can skip using the full path of the table if we define which schema to use for the entirety of this session, as shown below.\n"
   ]
  },
  {
   "cell_type": "code",
   "execution_count": null,
   "id": "f56db707-2311-431b-90c2-d5228f29337d",
   "metadata": {},
   "outputs": [],
   "source": [
    "%%sql --show\n",
    "use prod.db"
   ]
  },
  {
   "cell_type": "code",
   "execution_count": null,
   "id": "61631279-0816-4da4-969b-36eabd856971",
   "metadata": {},
   "outputs": [],
   "source": [
    "%%sql\n",
    "DESCRIBE lineitem"
   ]
  },
  {
   "cell_type": "code",
   "execution_count": null,
   "id": "a80f4241-3b19-4236-ae36-289b2767091a",
   "metadata": {
    "scrolled": true
   },
   "outputs": [],
   "source": [
    "%%sql\n",
    "DESCRIBE extended lineitem"
   ]
  },
  {
   "cell_type": "markdown",
   "id": "9bb260a6-a29d-4866-94b2-bf164ab515ee",
   "metadata": {},
   "source": [
    "## Use SELECT...FROM, LIMIT, WHERE, & ORDER BY to read the required data \n",
    "\n",
    "The most common use for querying is to read data from our tables. We can do this using a `SELECT ... FROM` statement, as shown below."
   ]
  },
  {
   "cell_type": "code",
   "execution_count": null,
   "id": "5db845de-4688-4eeb-98b0-d93479dd57a1",
   "metadata": {},
   "outputs": [],
   "source": [
    "%%sql\n",
    "-- use * to specify all columns\n",
    "SELECT\n",
    "  *\n",
    "FROM\n",
    "  orders\n",
    "LIMIT\n",
    "  4"
   ]
  },
  {
   "cell_type": "code",
   "execution_count": null,
   "id": "4a378fb4-6fcb-4875-a46f-d1d5e17cc311",
   "metadata": {},
   "outputs": [],
   "source": [
    "%%sql\n",
    "-- use column names to only read data from those columns\n",
    "SELECT\n",
    "  o_orderkey,\n",
    "  o_totalprice\n",
    "FROM\n",
    "  orders\n",
    "LIMIT\n",
    "  4"
   ]
  },
  {
   "cell_type": "markdown",
   "id": "27bf4efa-04a4-46e4-8aa7-362e9ab079c5",
   "metadata": {},
   "source": [
    "However, running a `SELECT ... FROM` statement can cause issues when the data set is extensive. If you want to examine the data, use `LIMIT n` to instruct Trino to retrieve only the first n rows. \n",
    "\n",
    "We can use the 'WHERE' clause to retrieve rows that match specific criteria. We can specify one or more filters within the' WHERE' clause. The `WHERE` clause with more than one filter can use combinations of `AND` and `OR` criteria to combine the filter criteria, as shown below."
   ]
  },
  {
   "cell_type": "code",
   "execution_count": null,
   "id": "ee2a8c3a-5f01-4018-b57d-e7e1bdec7068",
   "metadata": {},
   "outputs": [],
   "source": [
    "%%sql\n",
    "-- all customer rows that have c_nationkey = 20\n",
    "SELECT\n",
    "  *\n",
    "FROM\n",
    "  customer\n",
    "WHERE\n",
    "  c_nationkey = 20\n",
    "LIMIT\n",
    "  10;"
   ]
  },
  {
   "cell_type": "code",
   "execution_count": null,
   "id": "4b64ece7-308e-493c-83b8-56cef7537315",
   "metadata": {},
   "outputs": [],
   "source": [
    "%%sql\n",
    "-- all customer rows that have c_nationkey = 20 and c_acctbal > 1000\n",
    "SELECT\n",
    "  *\n",
    "FROM\n",
    "  customer\n",
    "WHERE\n",
    "  c_nationkey = 20\n",
    "  AND c_acctbal > 1000\n",
    "LIMIT\n",
    "  10;"
   ]
  },
  {
   "cell_type": "code",
   "execution_count": null,
   "id": "7acd72c6-e67e-4496-810e-9f876566874d",
   "metadata": {},
   "outputs": [],
   "source": [
    "%%sql\n",
    "-- all customer rows that have c_nationkey = 20 or c_acctbal > 1000\n",
    "SELECT\n",
    "  *\n",
    "FROM\n",
    "  customer\n",
    "WHERE\n",
    "  c_nationkey = 20\n",
    "  OR c_acctbal > 1000\n",
    "LIMIT\n",
    "  10;"
   ]
  },
  {
   "cell_type": "code",
   "execution_count": null,
   "id": "5085c948-ff87-4ee7-8aa5-6d9c0a7561ac",
   "metadata": {},
   "outputs": [],
   "source": [
    "%%sql\n",
    "-- all customer rows that have (c_nationkey = 20 and c_acctbal > 1000) or rows that have c_nationkey = 11\n",
    "SELECT\n",
    "  *\n",
    "FROM\n",
    "  customer\n",
    "WHERE\n",
    "  (\n",
    "    c_nationkey = 20\n",
    "    AND c_acctbal > 1000\n",
    "  )\n",
    "  OR c_nationkey = 11\n",
    "LIMIT\n",
    "  10;"
   ]
  },
  {
   "cell_type": "markdown",
   "id": "4d977008-96a5-422a-83a2-6cdb840f5b6d",
   "metadata": {},
   "source": [
    "\n",
    "We can combine multiple filter clauses, as seen above. We have seen examples of equals (`=`) and greater than (`>`) conditional operators. There are 6 **conditional operators**, they are\n",
    "\n",
    "1. `<` Less than\n",
    "2. `>` Greater than\n",
    "3. `<=` Less than or equal to\n",
    "4. `>=` Greater than or equal to\n",
    "5. `=` Equal\n",
    "6. `<>` and `!=` both represent Not equal (some DBs only support one of these)\n",
    "\n",
    "Additionally, for string types, we can make **pattern matching with `like` condition**. In a `like` condition, a `_` means any single character, and `%` means zero or more characters, for example.\n"
   ]
  },
  {
   "cell_type": "code",
   "execution_count": null,
   "id": "8daf8c10-7f61-4e2a-8845-c3f4dde62a9d",
   "metadata": {},
   "outputs": [],
   "source": [
    "%%sql\n",
    "-- all customer rows where the name has a 381 in it\n",
    "SELECT\n",
    "  *\n",
    "FROM\n",
    "  customer\n",
    "WHERE\n",
    "  c_name LIKE '%381%';"
   ]
  },
  {
   "cell_type": "code",
   "execution_count": null,
   "id": "e6169246-ab81-4631-acf3-366f5acd86e0",
   "metadata": {},
   "outputs": [],
   "source": [
    "%%sql\n",
    "-- all customer rows where the name ends with a 381\n",
    "SELECT\n",
    "  *\n",
    "FROM\n",
    "  customer\n",
    "WHERE\n",
    "  c_name LIKE '%381';"
   ]
  },
  {
   "cell_type": "code",
   "execution_count": null,
   "id": "1686717d-3d68-45cb-af2b-d7caa2069e49",
   "metadata": {},
   "outputs": [],
   "source": [
    "%%sql\n",
    "-- all customer rows where the name starts with a 381\n",
    "SELECT\n",
    "  *\n",
    "FROM\n",
    "  customer\n",
    "WHERE\n",
    "  c_name LIKE '381%';"
   ]
  },
  {
   "cell_type": "code",
   "execution_count": null,
   "id": "4c3ec120-86cd-4552-8c99-67c779c73fd3",
   "metadata": {
    "scrolled": true
   },
   "outputs": [],
   "source": [
    "%%sql\n",
    "-- all customer rows where the name has a combination of any character and 9 and 1\n",
    "SELECT\n",
    "  *\n",
    "FROM\n",
    "  customer\n",
    "WHERE\n",
    "  c_name LIKE '%_91%';"
   ]
  },
  {
   "cell_type": "markdown",
   "id": "f3aa2a4f-0490-4f1a-bdba-1e567408259b",
   "metadata": {},
   "source": [
    "We can also filter for more than one value using `IN` and `NOT IN`."
   ]
  },
  {
   "cell_type": "code",
   "execution_count": null,
   "id": "26a758d6-ec39-4f22-9465-6a4b743b2a63",
   "metadata": {
    "scrolled": true
   },
   "outputs": [],
   "source": [
    "%%sql\n",
    "-- all customer rows which have nationkey = 10 or nationkey = 20\n",
    "SELECT\n",
    "  *\n",
    "FROM\n",
    "  customer\n",
    "WHERE\n",
    "  c_nationkey IN (10, 20);"
   ]
  },
  {
   "cell_type": "code",
   "execution_count": null,
   "id": "140ff1e6-7612-4331-a0a2-4ceed10bf382",
   "metadata": {
    "scrolled": true
   },
   "outputs": [],
   "source": [
    "%%sql\n",
    "-- all customer rows which have do not have nationkey as 10 or 20\n",
    "SELECT\n",
    "  *\n",
    "FROM\n",
    "  customer\n",
    "WHERE\n",
    "  c_nationkey NOT IN (10, 20);"
   ]
  },
  {
   "cell_type": "markdown",
   "id": "4bab59d3-a6dc-44ac-9207-fb4f1a26994b",
   "metadata": {},
   "source": [
    "We can get the number of rows in a table using `count(*)` as shown below."
   ]
  },
  {
   "cell_type": "code",
   "execution_count": null,
   "id": "6346d582-7b5d-4e22-b824-c522f7a732a0",
   "metadata": {},
   "outputs": [],
   "source": [
    "%%sql\n",
    "SELECT\n",
    "  COUNT(*)\n",
    "FROM\n",
    "  customer;\n",
    "\n",
    "-- 1500"
   ]
  },
  {
   "cell_type": "code",
   "execution_count": null,
   "id": "47a43d0d-7a6d-4f14-9013-2fe4cfb2df84",
   "metadata": {},
   "outputs": [],
   "source": [
    "%%sql\n",
    "SELECT\n",
    "  COUNT(*)\n",
    "FROM\n",
    "  lineitem;\n",
    "\n",
    "-- 60175"
   ]
  },
  {
   "cell_type": "markdown",
   "id": "0ddf6e6e-2eb8-4bc7-8c4e-64880bdc097c",
   "metadata": {},
   "source": [
    "If we want to get the rows sorted by values in a specific column, we use `ORDER BY`, for example."
   ]
  },
  {
   "cell_type": "code",
   "execution_count": null,
   "id": "3b5aa4b5-7a6a-4696-aace-d7b0bc2616b9",
   "metadata": {},
   "outputs": [],
   "source": [
    "%%sql\n",
    "-- Will show the first ten customer records with the lowest custkey\n",
    "-- rows are ordered in ASC order by default\n",
    "SELECT\n",
    "  *\n",
    "FROM\n",
    "  orders\n",
    "ORDER BY\n",
    "  o_custkey\n",
    "LIMIT\n",
    "  10;"
   ]
  },
  {
   "cell_type": "code",
   "execution_count": null,
   "id": "6807d4dc-2018-47a0-9087-ad00eaf252eb",
   "metadata": {},
   "outputs": [],
   "source": [
    "%%sql\n",
    "-- Will show the first ten customer's records with the highest custkey\n",
    "SELECT\n",
    "  *\n",
    "FROM\n",
    "  orders\n",
    "ORDER BY\n",
    "  o_custkey DESC\n",
    "LIMIT\n",
    "  10;"
   ]
  },
  {
   "cell_type": "markdown",
   "id": "9153b8e2-eb74-44e6-b1ea-ab57ea51ac9d",
   "metadata": {},
   "source": [
    "## Combine data from multiple tables using JOINs\n",
    "\n",
    "We can combine data from multiple tables using joins. When we write a join query, we have a format as shown below.\n",
    "\n",
    "```sql\n",
    "SELECT\n",
    "    a.*\n",
    "FROM\n",
    "    table_a a -- LEFT table a\n",
    "    JOIN table_b b -- RIGHT table b\n",
    "    ON a.id = b.id\n",
    "```\n",
    "\n",
    "The table specified first (table_a) is the left table, whereas the table specified second is the right table. When we have multiple tables joined, we consider the joined dataset from the first two tables as the left table and the third table as the right table (The DB optimizes our join for performance).\n",
    "\n",
    "```sql\n",
    "SELECT\n",
    "    a.*\n",
    "FROM\n",
    "    table_a a -- LEFT table a\n",
    "    JOIN table_b b -- RIGHT table b\n",
    "    ON a.id = b.id\n",
    "    JOIN table_c c -- LEFT table is the joined data from table_a & table_b, right table is table_c\n",
    "    ON a.c_id = c.id\n",
    "```"
   ]
  },
  {
   "cell_type": "markdown",
   "id": "ff94ab86-5aa5-4f80-bad3-aebf815f738e",
   "metadata": {},
   "source": [
    "There are five main types of joins:\n",
    "\n",
    "![Join Types](./images/join_types.png)\n",
    "\n",
    "### 1. Inner join (default): Get rows with the same join keys from both tables"
   ]
  },
  {
   "cell_type": "code",
   "execution_count": null,
   "id": "7cb9e6d6-9a4e-4465-a9fe-2bf7b218e1a3",
   "metadata": {
    "scrolled": true
   },
   "outputs": [],
   "source": [
    "%%sql\n",
    "SELECT\n",
    "  o.o_orderkey,\n",
    "  l.l_orderkey\n",
    "FROM\n",
    "  orders o\n",
    "  JOIN lineitem l ON o.o_orderkey = l.l_orderkey\n",
    "  AND o.o_orderdate BETWEEN l.l_shipdate - INTERVAL '5' DAY AND l.l_shipdate  + INTERVAL '5' DAY\n",
    "LIMIT\n",
    "  10;"
   ]
  },
  {
   "cell_type": "code",
   "execution_count": null,
   "id": "1cbf9501-8f09-487d-9ef7-4660c45e013c",
   "metadata": {},
   "outputs": [],
   "source": [
    "%%sql\n",
    "SELECT\n",
    "  COUNT(o.o_orderkey) AS order_rows_count,\n",
    "  COUNT(l.l_orderkey) AS lineitem_rows_count\n",
    "FROM\n",
    "  orders o\n",
    "  JOIN lineitem l ON o.o_orderkey = l.l_orderkey\n",
    "  AND o.o_orderdate BETWEEN l.l_shipdate - INTERVAL '5' DAY AND l.l_shipdate  + INTERVAL '5' DAY;\n",
    "-- 2477, 2477"
   ]
  },
  {
   "cell_type": "markdown",
   "id": "ec0bdb81-94fd-4c0b-8593-67d1f0520f88",
   "metadata": {},
   "source": [
    "**Note:** `JOIN` defaults to INNER JOIN`.\n",
    "\n",
    "The output will contain rows from orders and lineitem that match at least one row from the other table with the specified join condition (same orderkey and orderdate within a 5-day window of the ship date). \n",
    "\n",
    "We can also see that 2,477 rows from the orders and lineitem tables matched.\n",
    "\n",
    "### 2. Left outer join (aka left join): Get all rows from the left table and only matching rows from the right table."
   ]
  },
  {
   "cell_type": "code",
   "execution_count": null,
   "id": "95bf641e-f656-4f39-b253-2c3218c0af6e",
   "metadata": {},
   "outputs": [],
   "source": [
    "%%sql\n",
    "\n",
    "SELECT\n",
    "  o.o_orderkey,\n",
    "  l.l_orderkey\n",
    "FROM\n",
    "  orders o\n",
    "  LEFT JOIN lineitem l ON o.o_orderkey = l.l_orderkey\n",
    "  AND o.o_orderdate BETWEEN l.l_shipdate - INTERVAL '5' DAY AND l.l_shipdate  + INTERVAL '5' DAY\n",
    "LIMIT\n",
    "  10;"
   ]
  },
  {
   "cell_type": "code",
   "execution_count": null,
   "id": "44be4691-f1ac-4ff5-98d1-fe71128df71c",
   "metadata": {},
   "outputs": [],
   "source": [
    "%%sql\n",
    "SELECT\n",
    "  COUNT(o.o_orderkey) AS order_rows_count,\n",
    "  COUNT(l.l_orderkey) AS lineitem_rows_count\n",
    "FROM\n",
    "  orders o\n",
    "  LEFT JOIN lineitem l ON o.o_orderkey = l.l_orderkey\n",
    "  AND o.o_orderdate BETWEEN l.l_shipdate - INTERVAL '5' DAY AND l.l_shipdate  + INTERVAL '5' DAY;\n",
    "-- 15197, 2477"
   ]
  },
  {
   "cell_type": "markdown",
   "id": "e1e50324-0ffe-45ef-8eec-8d98beadff50",
   "metadata": {},
   "source": [
    "The output will include all rows from orders and the rows from lineitem that were able to find at least one matching row from the orders table with the specified join condition (same orderkey and orderdate within a 5-day window of the ship date). \n",
    "\n",
    "We can also see that the number of rows from the orders table is 15,197 & from the lineitem table is 2,477. The number of rows in orders is 15,000, but the join condition produces 15,197 since some orders match with multiple line items.\n",
    "\n",
    "### 3. Right outer join (aka right join): Get matching rows from the left and all rows from the right table."
   ]
  },
  {
   "cell_type": "code",
   "execution_count": null,
   "id": "6075dce6-dd73-4b26-b887-d71fd6cf8214",
   "metadata": {},
   "outputs": [],
   "source": [
    "%%sql\n",
    "SELECT\n",
    "  o.o_orderkey,\n",
    "  l.l_orderkey\n",
    "FROM\n",
    "  orders o\n",
    "  RIGHT JOIN lineitem l ON o.o_orderkey = l.l_orderkey\n",
    "  AND o.o_orderdate BETWEEN l.l_shipdate - INTERVAL '5' DAY AND l.l_shipdate  + INTERVAL '5' DAY\n",
    "LIMIT\n",
    "  10;"
   ]
  },
  {
   "cell_type": "code",
   "execution_count": null,
   "id": "5931cab0-1a37-4513-84aa-75740129435a",
   "metadata": {},
   "outputs": [],
   "source": [
    "%%sql\n",
    "SELECT\n",
    "  COUNT(o.o_orderkey) AS order_rows_count,\n",
    "  COUNT(l.l_orderkey) AS lineitem_rows_count\n",
    "FROM\n",
    "  orders o\n",
    "  RIGHT JOIN lineitem l ON o.o_orderkey = l.l_orderkey\n",
    "  AND o.o_orderdate BETWEEN l.l_shipdate - INTERVAL '5' DAY AND l.l_shipdate  + INTERVAL '5' DAY;\n",
    "-- 2477, 60175"
   ]
  },
  {
   "cell_type": "markdown",
   "id": "790058ce-98ad-441f-b789-adfcffc6f267",
   "metadata": {},
   "source": [
    "The output will include the rows from orders that match at least one row from the lineitem table with the specified join condition (same orderkey and orderdate within a 5-day window of the ship date) and all rows from the lineitem table.\n",
    "\n",
    "We can also see that the number of rows from the orders table is 15,197 & from the lineitem table is 2,477.\n",
    "\n",
    "### 4. Full outer join: Get matched and unmatched rows from both tables."
   ]
  },
  {
   "cell_type": "code",
   "execution_count": null,
   "id": "c965fed7-d88f-48a1-834f-f0df7711c395",
   "metadata": {},
   "outputs": [],
   "source": [
    "%%sql\n",
    "SELECT\n",
    "  o.o_orderkey,\n",
    "  l.l_orderkey\n",
    "FROM\n",
    "  orders o\n",
    "  FULL OUTER JOIN lineitem l ON o.o_orderkey = l.l_orderkey\n",
    "  AND o.o_orderdate BETWEEN l.l_shipdate - INTERVAL '5' DAY AND l.l_shipdate  + INTERVAL '5' DAY\n",
    "LIMIT\n",
    "  10"
   ]
  },
  {
   "cell_type": "code",
   "execution_count": null,
   "id": "c2bc159f-6b8f-4058-8887-136a58b888bb",
   "metadata": {},
   "outputs": [],
   "source": [
    "%%sql\n",
    "SELECT\n",
    "  COUNT(o.o_orderkey) AS order_rows_count,\n",
    "  COUNT(l.l_orderkey) AS lineitem_rows_count\n",
    "FROM\n",
    "  orders o\n",
    "  FULL OUTER JOIN lineitem l ON o.o_orderkey = l.l_orderkey\n",
    "  AND o.o_orderdate BETWEEN l.l_shipdate - INTERVAL '5' DAY AND l.l_shipdate  + INTERVAL '5' DAY;\n",
    "-- 15197, 60175"
   ]
  },
  {
   "cell_type": "markdown",
   "id": "48040051-8ead-4e8b-9006-d0d93e9a1728",
   "metadata": {},
   "source": [
    "The output will include all rows from orders that match at least one row from the lineitem table with the specified join condition (same orderkey and orderdate within a 5-day window of the ship date) and all rows from the lineitem table.\n",
    "\n",
    "We can also see that the number of rows from the orders table is 15,197 & from the lineitem table is 2,477.\n",
    "\n",
    "### 5. Cross join: Join every row in the left table with every row in the right table"
   ]
  },
  {
   "cell_type": "code",
   "execution_count": null,
   "id": "48b2c06b-2d1b-4859-b926-da7e5aee4cb7",
   "metadata": {
    "scrolled": true
   },
   "outputs": [],
   "source": [
    "%%sql\n",
    "SELECT\n",
    "  n.n_name AS nation_c_name,\n",
    "  r.r_name AS region_c_name\n",
    "FROM\n",
    "  nation n\n",
    "  CROSS JOIN region r;"
   ]
  },
  {
   "cell_type": "markdown",
   "id": "f81dd998-7c8f-4e54-87c9-9aaa3447385b",
   "metadata": {},
   "source": [
    "The output will have every row of the nation joined with every row of the region. There are 25 nations and five regions, leading to 125 rows in our result from the cross-join.\n",
    "\n",
    "\n",
    "There are cases where we need to join a table with itself, known as a SELF-join. Let's consider an example.\n",
    "\n",
    "1. For every customer order, get the order placed earlier in the same week (Sunday - Saturday, not the previous seven days). Only show customer orders that have at least one such order."
   ]
  },
  {
   "cell_type": "code",
   "execution_count": null,
   "id": "dce8ed5e-bf96-4238-ad79-53b44dd375aa",
   "metadata": {},
   "outputs": [],
   "source": [
    "%%sql    \n",
    "SELECT\n",
    "    o1.o_custkey as o1_custkey,\n",
    "    o1.o_totalprice as o1_totalprice,\n",
    "    o1.o_orderdate as o1_orderdate,\n",
    "    o2.o_totalprice as o2_totalprice,\n",
    "    o2.o_orderdate as o2_orderdate\n",
    "FROM\n",
    "    orders o1\n",
    "    JOIN orders o2 ON o1.o_custkey = o2.o_custkey\n",
    "    AND year(o1.o_orderdate) = year(o2.o_orderdate)\n",
    "    AND weekofyear(o1.o_orderdate) = weekofyear(o2.o_orderdate)\n",
    "WHERE\n",
    "    o1.o_orderkey != o2.o_orderkey\n",
    "LIMIT\n",
    "    10;"
   ]
  },
  {
   "cell_type": "markdown",
   "id": "1f489cb9-2687-4c78-935f-38fc07c55221",
   "metadata": {},
   "source": [
    "## Combine data from multiple rows into one using GROUP BY\n",
    "\n",
    "Most analytical queries require calculating metrics that involve combining data from multiple rows. `GROUP BY` allows us to perform aggregate calculations on data from a set of rows recognized by values of specified column(s). For example:\n",
    "\n",
    "1. Create a report that shows the number of orders per orderpriority segment."
   ]
  },
  {
   "cell_type": "code",
   "execution_count": null,
   "id": "d51abb96-7156-4a67-bd14-f2383822c843",
   "metadata": {},
   "outputs": [],
   "source": [
    "%%sql\n",
    "SELECT\n",
    "  o_orderpriority,\n",
    "  COUNT(*) AS num_orders\n",
    "FROM\n",
    "  orders\n",
    "GROUP BY\n",
    "  o_orderpriority;"
   ]
  },
  {
   "cell_type": "markdown",
   "id": "9fd9273c-9d0c-411f-a187-08d5d436ccdf",
   "metadata": {},
   "source": [
    "In the above query, we group the data by `orderpriority`, and the calculation `count(*)` will be applied to the rows having a specific `orderpriority` value.\n",
    "\n",
    "The calculations allowed are typically SUM/MIN/MAX/AVG/COUNT. However, some databases have more complex aggregate functions; check your DB documentation.\n",
    "\n",
    "### Use HAVING to filter based on the aggregates created by GROUP BY \n",
    "\n",
    "## Replicate IF.ELSE logic with CASE statements\n",
    "\n",
    "We can do conditional logic in the `SELECT ... FROM` part of our query, as shown below."
   ]
  },
  {
   "cell_type": "code",
   "execution_count": null,
   "id": "50eb99e3-b5d8-4898-b4d4-5a0574a03e7c",
   "metadata": {},
   "outputs": [],
   "source": [
    "%%sql\n",
    "SELECT\n",
    "    o_orderkey,\n",
    "    o_totalprice,\n",
    "    CASE\n",
    "        WHEN o_totalprice > 100000 THEN 'high'\n",
    "        WHEN o_totalprice BETWEEN 25000\n",
    "        AND 100000 THEN 'medium'\n",
    "        ELSE 'low'\n",
    "    END AS order_price_bucket\n",
    "FROM\n",
    "    orders;"
   ]
  },
  {
   "cell_type": "markdown",
   "id": "45acb2a9-52ed-4d66-8f41-06bf0332aefe",
   "metadata": {},
   "source": [
    "We can see how we display different values depending on the `totalprice` column. We can also use multiple criteria as our conditional criteria (e.g., totalprice > 100000 AND orderpriority = '2-HIGH').\n",
    "\n",
    "## Stack tables on top of each other with UNION and UNION ALL, subtract tables with EXCEPT\n",
    "\n",
    "When we want to combine data from tables by stacking them on top of each other, we use the UNION or UNION ALL operator. `UNION` removes duplicate rows, and `UNION ALL` does not remove duplicate rows. Let's look at an example."
   ]
  },
  {
   "cell_type": "code",
   "execution_count": null,
   "id": "42af84ac-1784-4ff2-80a6-0e4b769f6ad4",
   "metadata": {},
   "outputs": [],
   "source": [
    "%%sql\n",
    "\n",
    "SELECT c_custkey, c_name FROM customer WHERE c_name LIKE '%_91%' -- 25 rows"
   ]
  },
  {
   "cell_type": "code",
   "execution_count": null,
   "id": "0c8d1afc-f0a7-41cc-a2d1-323fd656d7d0",
   "metadata": {
    "scrolled": true
   },
   "outputs": [],
   "source": [
    "%%sql\n",
    "-- UNION will remove duplicate rows; the below query will produce 25 rows\n",
    "SELECT c_custkey, c_name FROM customer WHERE c_name LIKE'%_91%'\n",
    "UNION\n",
    "SELECT c_custkey, c_name FROM customer WHERE c_name LIKE '%_91%'\n",
    "UNION\n",
    "SELECT c_custkey, c_name FROM customer WHERE c_name LIKE '%_91'"
   ]
  },
  {
   "cell_type": "code",
   "execution_count": null,
   "id": "1ac4cc3d-4cc9-4b90-9fbe-5d02cf1d405e",
   "metadata": {
    "scrolled": true
   },
   "outputs": [],
   "source": [
    "%%sql\n",
    "-- UNION ALL will not remove duplicate rows; the below query will produce 75 rows\n",
    "SELECT c_custkey, c_name FROM customer WHERE c_name LIKE '%_91%'\n",
    "UNION ALL\n",
    "SELECT c_custkey, c_name FROM customer WHERE c_name LIKE '%_91%'\n",
    "UNION ALL\n",
    "SELECT c_custkey, c_name FROM customer WHERE c_name LIKE '%_91%';"
   ]
  },
  {
   "cell_type": "markdown",
   "id": "adf1c165-3c8e-4cf2-8be4-879e64b6e825",
   "metadata": {},
   "source": [
    "    "
   ]
  },
  {
   "cell_type": "markdown",
   "id": "5a9e1cfd-f948-45ca-a745-6f5ef5bfc480",
   "metadata": {},
   "source": [
    "When we want to retrieve all rows from the first dataset that are not present in the second dataset, we can use `EXCEPT`."
   ]
  },
  {
   "cell_type": "code",
   "execution_count": null,
   "id": "0a8a7e83-0525-43dd-8e9d-6fd7f76ed042",
   "metadata": {},
   "outputs": [],
   "source": [
    "%%sql\n",
    "-- EXCEPT will get the rows in the first query result that is not in the second query result, 0 rows\n",
    "SELECT c_custkey, c_name FROM customer WHERE c_name LIKE '%_91%'\n",
    "EXCEPT\n",
    "SELECT c_custkey, c_name FROM customer WHERE c_name LIKE '%_91%';"
   ]
  },
  {
   "cell_type": "code",
   "execution_count": null,
   "id": "44bbecb6-098a-49f4-a5ac-cf984aadd594",
   "metadata": {
    "scrolled": true
   },
   "outputs": [],
   "source": [
    "%%sql\n",
    "-- The below query will result in 23 rows; the first query has 25 rows, and the second has two rows\n",
    "SELECT c_custkey, c_name FROM customer WHERE c_name LIKE'%_91%'\n",
    "EXCEPT\n",
    "SELECT c_custkey, c_name FROM customer WHERE c_name LIKE '%191%';"
   ]
  },
  {
   "cell_type": "markdown",
   "id": "f36d49a4-fccb-499a-8f3d-37fa67d33817",
   "metadata": {},
   "source": [
    "## Sub-query: Use a query instead of a table\n",
    "\n",
    "When we want to use the result of a query as a table in another query, we use subqueries. Let's consider an example:\n",
    "\n",
    "1. Create a report that shows the nation, how many items it supplied (by suppliers in that nation), and how many items it purchased (by customers in that nation). "
   ]
  },
  {
   "cell_type": "code",
   "execution_count": null,
   "id": "31253310-4d1e-4203-adeb-a5a1254115c3",
   "metadata": {},
   "outputs": [],
   "source": [
    "%%sql\n",
    "SELECT\n",
    "  n.n_name AS nation_c_name,\n",
    "  s.quantity AS supplied_items_quantity,\n",
    "  c.quantity AS purchased_items_quantity\n",
    "FROM\n",
    "  nation n\n",
    "  LEFT JOIN (\n",
    "    SELECT\n",
    "      n.n_nationkey,\n",
    "      SUM(l.l_quantity) AS quantity\n",
    "    FROM\n",
    "      lineitem l\n",
    "      JOIN supplier s ON l.l_suppkey = s.s_suppkey\n",
    "      JOIN nation n ON s.s_nationkey = n.n_nationkey\n",
    "    GROUP BY\n",
    "      n.n_nationkey\n",
    "  ) s ON n.n_nationkey = s.n_nationkey\n",
    "  LEFT JOIN (\n",
    "    SELECT\n",
    "      n.n_nationkey,\n",
    "      SUM(l.l_quantity) AS quantity\n",
    "    FROM\n",
    "      lineitem l\n",
    "      JOIN orders o ON l.l_orderkey = o.o_orderkey\n",
    "      JOIN customer c ON o.o_custkey = c.c_custkey\n",
    "      JOIN nation n ON c.c_nationkey = n.n_nationkey\n",
    "    GROUP BY\n",
    "      n.n_nationkey\n",
    "  ) c ON n.n_nationkey = c.n_nationkey;"
   ]
  },
  {
   "cell_type": "markdown",
   "id": "938b1f69-c696-450e-9be3-33a801b883dd",
   "metadata": {},
   "source": [
    "In the above query, we can see that there are two sub-queries, one to calculate the quantity supplied by a nation and the other to calculate the quantity purchased by the customers of a nation.\n",
    "\n",
    "## Change data types (CAST) and handle NULLS (COALESCE)\n",
    "\n",
    "Every column in a table has a specific data type. The data types fall under one of the following categories.\n",
    "\n",
    "1. **`Numerical`**: Data types used to store numbers.\n",
    "   1. Integer: Positive and negative numbers. Different types of Integer, such as tinyint, int, and bigint, allow storage of different ranges of values. Integers cannot have decimal digits.\n",
    "   2. Floating: These can have decimal digits but store an approximate value.\n",
    "   3. Decimal: These can have decimal digits and store the exact value. The decimal type allows you to specify the scale and precision. Where scale denotes the count of numbers allowed as a whole & precision denotes the count of numbers allowed after the decimal point. E.g., DECIMAL(8,3) allows eight numbers in total, with three allowed after the decimal point.\n",
    "2. **`Boolean`**: Data types used to store True or False values.\n",
    "3. **` String`**: Data types used to store alphanumeric characters.\n",
    "   1. Varchar(n): Data type allows storage of a variable character string, with a permitted max length n.\n",
    "   2. Char(n): Data type allows storage of a fixed character string. A column of char(n) type adds (length(string) - n) empty spaces to a string that does not have n characters.\n",
    "4. **`Date & time`**: Data types used to store dates, time, & timestamps(date + time).\n",
    "5. **` Objects (STRUCT, ARRAY, MAP, JSON)`**: Data types used to store JSON and ARRAY data.\n",
    "\n",
    "Some databases have data types that are unique to them as well. We should check the database documents to understand the data types offered.\n",
    "\n",
    "It is best practice to use the appropriate data type for your columns. We can convert data types using the `CAST` function, as shown below."
   ]
  },
  {
   "cell_type": "markdown",
   "id": "af83be05-4298-4521-8aa3-f4078ee9ef8b",
   "metadata": {},
   "source": [
    "A `NULL` will be used for that field when a value is not present. In cases where we want to use the first non-NULL value from a list of columns, we use `COALESCE` as shown below.\n",
    "\n",
    "Let's consider the following example. We can see how when `l.orderkey` is NULL, the DB uses `999999` as the output."
   ]
  },
  {
   "cell_type": "code",
   "execution_count": null,
   "id": "8afd3929-5f22-4a7a-b99e-19999a419f27",
   "metadata": {},
   "outputs": [],
   "source": [
    "%%sql\n",
    "SELECT\n",
    "    o.o_orderkey,\n",
    "    o.o_orderdate,\n",
    "    COALESCE(l.l_orderkey, 9999999) AS lineitem_orderkey,\n",
    "    l.l_shipdate\n",
    "FROM\n",
    "    orders o\n",
    "    LEFT JOIN lineitem l ON o.o_orderkey = l.l_orderkey\n",
    "    AND o.o_orderdate BETWEEN l.l_shipdate - INTERVAL '5' DAY\n",
    "    AND l.l_shipdate + INTERVAL '5' DAY\n",
    "LIMIT\n",
    "    10;"
   ]
  },
  {
   "cell_type": "markdown",
   "id": "35519f63-9071-4fc0-b41f-f87b27a49ed4",
   "metadata": {},
   "source": [
    "## Use these standard inbuilt DB functions for String, Time, and Numeric data manipulation\n",
    "When processing data, more often than not, we will need to change values in columns; shown below are a few standard functions to be aware of:\n",
    "\n",
    "1. **` String functions`**\n",
    "   1. **LENGTH** is used to calculate the length of a string. E.g., `SELECT LENGTH('hi');` will output 2.\n",
    "   2. **CONCAT** combines multiple string columns into one. E.g., `SELECT CONCAT(clerk, '-', orderpriority) FROM ORDERS LIMIT 5;` will concatenate clerk and orderpriority columns with a dash in between them.\n",
    "   3. **SPLIT** is used to split a value into an array based on a given delimiter. E.g., `SELECT SPLIT(clerk, '#') FROM ORDERS LIMIT 5;` will output a column with arrays formed by splitting clerk values on `#`.\n",
    "   4. **SUBSTRING** is used to get a sub-string from a value, given the start and length. E.g., `SELECT clerk, SUBSTRING(clerk, 1, 5) FROM orders LIMIT 5;` will get the first five characters of the clerk column. Note that indexing starts from 1 in Spark SQL.\n",
    "   5. **TRIM** is used to remove empty spaces to the left and right of the value. E.g., `SELECT TRIM(' hi ');` will output `hi` without any spaces around it. LTRIM and RTRIM are similar but only remove spaces before and after the string, respectively.\n",
    "\n",
    "2. **` Date and Time functions`**\n",
    "   1. **Adding and subtracting dates**: Is used to add and subtract periods; the format heavily depends on the DB. E.g., In Spark SQL, the query\n",
    "      ```sql\n",
    "        SELECT\n",
    "        DATEDIFF(DATE '2023-11-05', DATE '2022-10-01') AS diff_in_days,\n",
    "        MONTHS_BETWEEN(DATE '2023-11-05', DATE '2022-10-01') AS diff_in_months,\n",
    "        YEAR(DATE '2023-11-05') - YEAR(DATE '2022-10-01') AS diff_in_years;\n",
    "      ```\n",
    "    It will show the difference between the two dates in the specified period. We can also add/subtract an arbitrary period from a date/time column. E.g., `SELECT DATE_ADD(DATE '2022-11-05', 10);` will show the output `2022-11-15`.\n",
    "\n",
    "   2. **string <=> date/time conversions**: When we want to change the data type of a string to date/time, we can use the `DATE 'YYYY-MM-DD'` or `TIMESTAMP 'YYYY-MM-DD HH:mm:SS'` functions. But when the data is in a different date/time format such as `MM/DD/YYYY`, we will need to specify the input structure; we do this using `TO_DATE` or `TO_TIMESTAMP`. E.g. `SELECT TO_DATE('11-05-2023', 'MM-dd-yyyy');`. We can convert a timestamp/date into a string with the required format using `DATE_FORMAT`. E.g., `SELECT DATE_FORMAT(orderdate, 'yyyy-MM-01') AS first_month_date FROM orders LIMIT 5;` will map every orderdate to the first of their month.\n",
    "   \n",
    "   3. **Time frame functions (YEAR/MONTH/DAY)**:  When we want to extract specific periods from a date/time column, we can use these functions. E.g., `SELECT YEAR(DATE '2023-11-05');` will return 2023. Similarly, we have MONTH, DAY, HOUR, MINUTE, etc.\n",
    "\n",
    "3. **`Numeric`**\n",
    "   1. **ROUND** is used to specify the number of digits allowed after the decimal point. E.g. `SELECT ROUND(100.102345, 2);`"
   ]
  },
  {
   "cell_type": "markdown",
   "id": "229aa787-a524-4f11-adca-9aa0a61b372b",
   "metadata": {},
   "source": [
    "## Save queries as views for more straightforward reads\n",
    "\n",
    "When we have large/complex queries that we need to run often, we can save them as views. Views are database objects that operate similarly to tables. The OLAP DB executes the underlying query when we query a view. \n",
    "\n",
    "Use views to hide query complexities and limit column access (by exposing only specific table columns) for end-users.\n",
    "\n",
    "For example, we can create a view for the nation-level report from the above section, as shown below."
   ]
  },
  {
   "cell_type": "code",
   "execution_count": null,
   "id": "ce15c6fb-ac1e-4760-86d6-7ffe888515d8",
   "metadata": {},
   "outputs": [],
   "source": [
    "%%sql\n",
    "DROP VIEW IF EXISTS nation_supplied_purchased_quantity"
   ]
  },
  {
   "cell_type": "code",
   "execution_count": null,
   "id": "23ff717d-26fe-4294-8605-3af0d0b5946e",
   "metadata": {},
   "outputs": [],
   "source": [
    "%%sql\n",
    "CREATE VIEW nation_supplied_purchased_quantity AS\n",
    "SELECT\n",
    "    n.n_name AS nation_name,\n",
    "    s.quantity AS supplied_items_quantity,\n",
    "    c.quantity AS purchased_items_quantity\n",
    "FROM\n",
    "    nation n\n",
    "    LEFT JOIN (\n",
    "        SELECT\n",
    "            n_nationkey as nationkey,\n",
    "            sum(l_quantity) AS quantity\n",
    "        FROM\n",
    "            lineitem l\n",
    "            JOIN supplier s ON l.l_suppkey = s.s_suppkey\n",
    "            JOIN nation n ON s.s_nationkey = n.n_nationkey\n",
    "        GROUP BY\n",
    "            n.n_nationkey\n",
    "    ) s ON n.n_nationkey = s.nationkey\n",
    "    LEFT JOIN (\n",
    "        SELECT\n",
    "            n_nationkey as nationkey,\n",
    "            sum(l_quantity) AS quantity\n",
    "        FROM\n",
    "            lineitem l\n",
    "            JOIN orders o ON l.l_orderkey = o.o_orderkey\n",
    "            JOIN customer c ON o.o_custkey = c.c_custkey\n",
    "            JOIN nation n ON c.c_nationkey = n.n_nationkey\n",
    "        GROUP BY\n",
    "            n.n_nationkey\n",
    "    ) c ON n.n_nationkey = c.nationkey;"
   ]
  },
  {
   "cell_type": "code",
   "execution_count": null,
   "id": "4c4dfd89-7ad6-4704-ad3c-04eebbe03dd6",
   "metadata": {},
   "outputs": [],
   "source": [
    "%%sql\n",
    "SELECT\n",
    "    *\n",
    "FROM\n",
    "    nation_supplied_purchased_quantity;"
   ]
  },
  {
   "cell_type": "markdown",
   "id": "1a057df8-dc52-4e03-ba6d-3efdb531f9f1",
   "metadata": {},
   "source": [
    "Now the view `nation_supplied_purchased_quantity` will run the underlying query when used.\n",
    "\n",
    "\n",
    "## Exercises\n",
    "\n",
    "1. Create a report that shows the number of returns for each region name\n",
    "**Topics**: JOINs, GROUP BY, COUNT\n",
    "2. Top 10 most selling parts\n",
    "**Topics**: aggregations, ranking, LIMIT, top N analysis\n",
    "3. Sellers who sell at least one of the top 10 selling parts\n",
    "**Topics**: subqueries\n",
    "4. Number of returns per order price bucket\n",
    "**Topics**: CASE statements, data bucketing, conditional logic\n",
    "```sql\n",
    "CASE\n",
    "    WHEN o_totalprice > 100000 THEN 'high'\n",
    "    WHEN o_totalprice BETWEEN 25000 AND 100000 THEN 'medium'\n",
    "    ELSE 'low'\n",
    "END AS order_price_bucket\n",
    "```\n",
    "5. Average time (in days) between receiptdate and shipdate for each nation\n",
    "**Topics**: date arithmetic, time calculations\n",
    "\n",
    "\n",
    "## Recommended reading\n",
    "\n",
    "1. https://www.startdataengineering.com/post/improve-sql-skills-de/\n",
    "2. https://www.startdataengineering.com/post/n-sql-tips-de/\n",
    "3. https://www.startdataengineering.com/post/advanced-sql/"
   ]
  },
  {
   "cell_type": "code",
   "execution_count": null,
   "id": "14647b9b-ab09-4837-814c-6156633bf659",
   "metadata": {},
   "outputs": [],
   "source": []
  }
 ],
 "metadata": {
  "kernelspec": {
   "display_name": "Python 3 (ipykernel)",
   "language": "python",
   "name": "python3"
  },
  "language_info": {
   "codemirror_mode": {
    "name": "ipython",
    "version": 3
   },
   "file_extension": ".py",
   "mimetype": "text/x-python",
   "name": "python",
   "nbconvert_exporter": "python",
   "pygments_lexer": "ipython3",
   "version": "3.10.16"
  }
 },
 "nbformat": 4,
 "nbformat_minor": 5
}
