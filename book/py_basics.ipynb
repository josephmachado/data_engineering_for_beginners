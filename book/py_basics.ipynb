{
 "cells": [
  {
   "cell_type": "markdown",
   "id": "b18de7f3-78c7-4838-a012-cc7f85d2a4a3",
   "metadata": {},
   "source": [
    "---\n",
    "title: \"Manipulate data with standard libraries and co-locate code with classes and functions\"\n",
    "format:\n",
    "  html:\n",
    "    toc: true\n",
    "execute:\n",
    "    eval: false\n",
    "    output: true\n",
    "---"
   ]
  },
  {
   "cell_type": "markdown",
   "id": "9abb6932-3027-4f00-9a86-6f6e911ad189",
   "metadata": {},
   "source": [
    "\n",
    "\n",
    "In this chapter we will see how to use Python data structures and OOM and functions.\n",
    "\n",
    "### Use the appropriate data structure based on how data will be used\n",
    "\n",
    "Let's go over some basics of the Python language:\n",
    "\n",
    "1. **`Variables`**: A storage location identified by its name, containing some value.\n",
    "2. **`Operations`**: We can do any operation (arithmetic for numbers, string transformation for text) on variables\n",
    "3. **`Data Structures`**: They are ways of representing data. Each has its own pros and cons and places where it is the right fit.\n",
    "    3.1. **`List`**: A collection of elements that can be accessed by knowing the element's location (aka index). Lists retain the order of elements in them.\n",
    "  \n",
    "    3.2. **`Dictionary`**: A collection of key-value pairs where each key is mapped to a value using a hash function. The dictionary provides fast data retrieval based on keys.\n",
    "\n",
    "    3.3. **`Set`**: A collection of unique elements that do not allow duplicates.\n",
    "\n",
    "    3.4. **`Tuple`**: A collection of immutable(non changeable) elements, tuples retain their order once created.\n"
   ]
  },
  {
   "cell_type": "code",
   "execution_count": 2,
   "id": "e2bc6f36-797b-4106-b30d-934f2677845c",
   "metadata": {},
   "outputs": [
    {
     "name": "stdout",
     "output_type": "stream",
     "text": [
      "30\n",
      "Some string\n",
      "1\n",
      "4\n",
      "1\n",
      "2\n",
      "{10, 30}\n"
     ]
    }
   ],
   "source": [
    "a = 10\n",
    "b = 20\n",
    "\n",
    "c = a + b\n",
    "print(c)\n",
    "\n",
    "s = '  Some string '\n",
    "print(s.strip())\n",
    "\n",
    "l = [1, 2, 3, 4]\n",
    "\n",
    "print(l[0])  # Will print 1\n",
    "print(l[3])  # Will print 4\n",
    "\n",
    "d = {'a': 1, 'b': 2}\n",
    "\n",
    "print(d.get('a'))\n",
    "print(d.get('b'))\n",
    "\n",
    "my_set = set()\n",
    "my_set.add(10)\n",
    "my_set.add(10)\n",
    "my_set.add(10)\n",
    "my_set.add(30)\n",
    "print(my_set)"
   ]
  },
  {
   "cell_type": "markdown",
   "id": "34c29b67-de74-4d03-a216-d54aa4a4b283",
   "metadata": {},
   "source": [
    "### Manipulate data with control-flow loops\n",
    "\n",
    "4. **`Loops`**: Looping allows a specific chunk of code to be repeated several times. The most common type is the `for` loop.\n",
    "\n",
    "    4.1. **`Comprehension`**: Comprehension is a shorthand way of writing a loop. This allows for concise code, great for representing simpler logic."
   ]
  },
  {
   "cell_type": "code",
   "execution_count": 3,
   "id": "a4edf178-b4c7-48f8-87bb-247a0d7eb77a",
   "metadata": {},
   "outputs": [
    {
     "name": "stdout",
     "output_type": "stream",
     "text": [
      "0\n",
      "1\n",
      "2\n",
      "3\n",
      "4\n",
      "5\n",
      "6\n",
      "7\n",
      "8\n",
      "9\n",
      "10\n",
      "1\n",
      "2\n",
      "3\n",
      "4\n",
      "Key: a, Value: 1\n",
      "Key: b, Value: 2\n",
      "[4, 5, 6]\n",
      "[]\n"
     ]
    }
   ],
   "source": [
    "for i in range(11):\n",
    "    print(i)\n",
    "\n",
    "for elt in l:\n",
    "    print(elt)\n",
    "\n",
    "for k, v in d.items():\n",
    "    print(f'Key: {k}, Value: {v}')\n",
    "\n",
    "[elt*2 for elt in l]\n",
    "\n",
    "def gt_three(input_list):\n",
    "    return [elt for elt in input_list if elt > 3]\n",
    "\n",
    "list_1 = [1, 2, 3, 4, 5, 6]\n",
    "print(gt_three(list_1))\n",
    "\n",
    "list_2 = [1, 2, 3, 1, 1, 1]\n",
    "print(gt_three(list_2))"
   ]
  },
  {
   "cell_type": "markdown",
   "id": "9e3feb69-8701-42c3-afd1-3380fa82bc9c",
   "metadata": {},
   "source": [
    "### Co-locate logic with classes and functions\n",
    "\n",
    "5. **`Functions`**: A block of code that can be reused as needed. This allows us to have logic defined in one place, making it easy to maintain and use. Using it in a location is referred to as calling the function.\n",
    "6. **`Class and Objects`**: Think of a class as a blueprint and objects as things created based on that blueprint.\n",
    "7. **`Library`**: Libraries are code that can be reused. Python comes with standard libraries for common operations, such as a datetime library to work with time (although there are better libraries)—[Standard library](https://docs.python.org/3/library/index.html).\n",
    "8. **`Exception handling`**: When an error occurs, we need our code to gracefully handle it without stopping. "
   ]
  },
  {
   "cell_type": "code",
   "execution_count": 4,
   "id": "d0f79d13-3c53-44b7-9d0d-c73ccee94aa0",
   "metadata": {},
   "outputs": [
    {
     "name": "stdout",
     "output_type": "stream",
     "text": [
      "10\n",
      "2025 07 17\n",
      "Error: Index 10 is out of range for the list.\n",
      "Execution completed.\n"
     ]
    }
   ],
   "source": [
    "class DataExtractor:\n",
    "\n",
    "    def __init__(self, some_value):\n",
    "        self.some_value = some_value\n",
    "\n",
    "    def get_connection(self):\n",
    "        pass\n",
    "\n",
    "    def close_connection(self):\n",
    "        pass\n",
    "\n",
    "de_object = DataExtractor(10)\n",
    "print(de_object.some_value)\n",
    "\n",
    "from datetime import datetime\n",
    "print(datetime.now().strftime('%Y %m %d'))\n",
    "\n",
    "l = [1, 2, 3, 4, 5]\n",
    "index = 10\n",
    "try:\n",
    "    element = l[index]\n",
    "    print(f\"Element at index {index} is {element}\")\n",
    "except IndexError:\n",
    "    print(f\"Error: Index {index} is out of range for the list.\")\n",
    "finally:\n",
    "    print(\"Execution completed.\")"
   ]
  },
  {
   "cell_type": "code",
   "execution_count": null,
   "id": "55444c42-5363-4cd9-bdb9-9f43d82aace9",
   "metadata": {},
   "outputs": [],
   "source": []
  }
 ],
 "metadata": {
  "kernelspec": {
   "display_name": "Python 3 (ipykernel)",
   "language": "python",
   "name": "python3"
  },
  "language_info": {
   "codemirror_mode": {
    "name": "ipython",
    "version": 3
   },
   "file_extension": ".py",
   "mimetype": "text/x-python",
   "name": "python",
   "nbconvert_exporter": "python",
   "pygments_lexer": "ipython3",
   "version": "3.10.16"
  }
 },
 "nbformat": 4,
 "nbformat_minor": 5
}
