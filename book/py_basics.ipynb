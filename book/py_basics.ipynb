{
 "cells": [
  {
   "cell_type": "markdown",
   "id": "b18de7f3-78c7-4838-a012-cc7f85d2a4a3",
   "metadata": {},
   "source": [
    "---\n",
    "title: \"Manipulate data with standard libraries and co-locate code with classes and functions\"\n",
    "format:\n",
    "  html:\n",
    "    toc: true\n",
    "execute:\n",
    "    eval: false\n",
    "    output: true\n",
    "---"
   ]
  },
  {
   "cell_type": "markdown",
   "id": "9abb6932-3027-4f00-9a86-6f6e911ad189",
   "metadata": {},
   "source": [
    "In this chapter, we will learn \n",
    "Commonly used data structures\n",
    "Loops \n",
    "Classes, objects, and functions.\n",
    "\n",
    "### Use the appropriate data structure based on how the data will be used\n",
    "\n",
    "Let's go over some basics of the Python language:\n",
    "\n",
    "1. **`Variables`**: A storage location identified by its name, containing some value.\n",
    "2. **`Operations`**: We can do any operation (arithmetic for numbers, string transformation for text) on variables\n",
    "3. **`Data Structures`**: They are ways of representing data. Each has its own pros and cons, as well as specific situations where it is the right fit.\n",
    "\n",
    "    3.1. **`List`**: A collection of elements that can be accessed by knowing the element's location (aka index). Lists retain the order of their elements.\n",
    "  \n",
    "    3.2. **`Dictionary`**: A collection of key-value pairs where each key is mapped to a value using a hash function. The dictionary provides fast data retrieval based on keys.\n",
    "\n",
    "    3.3. **`Set`**: A collection of unique elements that do not allow duplicates.\n",
    "\n",
    "    3.4. **`Tuple`**: A collection of immutable(non changeable) elements, tuples retain their order once created.\n"
   ]
  },
  {
   "cell_type": "code",
   "execution_count": null,
   "id": "e2bc6f36-797b-4106-b30d-934f2677845c",
   "metadata": {},
   "outputs": [],
   "source": [
    "# Variables\n",
    "a = 10\n",
    "b = 20\n",
    "\n",
    "# operations\n",
    "c = a + b\n",
    "print(c) # prints the value\n",
    "\n",
    "s = '  Some string '\n",
    "# operations\n",
    "print(s.strip())"
   ]
  },
  {
   "cell_type": "code",
   "execution_count": null,
   "id": "f2d18a75-74f8-4be9-a7dc-ddd1087c8b1d",
   "metadata": {},
   "outputs": [],
   "source": [
    "# Data structures\n",
    "\n",
    "# List\n",
    "l = [1, 2, 3, 4]\n",
    "\n",
    "print(l[0])  # Will print 1\n",
    "print(l[3])  # Will print 4\n",
    "\n",
    "# disctionary\n",
    "d = {'a': 1, 'b': 2}\n",
    "\n",
    "print(d.get('a')) # get value of a\n",
    "print(d.get('b')) # get value of b\n",
    "\n",
    "# Set\n",
    "my_set = set() # set only stores unique values\n",
    "my_set.add(10)\n",
    "my_set.add(10) # we already have a 10\n",
    "my_set.add(10) # we already have a 10\n",
    "my_set.add(30)\n",
    "print(my_set)"
   ]
  },
  {
   "cell_type": "markdown",
   "id": "34c29b67-de74-4d03-a216-d54aa4a4b283",
   "metadata": {},
   "source": [
    "### Manipulate data with control-flow loops\n",
    "\n",
    "1. **`Loops`**: Looping allows a specific chunk of code to be repeated several times. The most common type is the `for` loop.\n",
    "\n",
    "2. **`Comprehension`**: Comprehension is a shorthand way of writing a loop. This allows for concise code, great for representing simpler logic."
   ]
  },
  {
   "cell_type": "code",
   "execution_count": null,
   "id": "b7770b2a-6470-4d44-82a3-5f1c066e6645",
   "metadata": {},
   "outputs": [],
   "source": [
    "# Range(n) creates a list of values from o to n-1 (inclusive)\n",
    "\n",
    "# we can pull out one element from a list and call it a vaiable (i in our case) \n",
    "for i in range(11):\n",
    "    print(i)"
   ]
  },
  {
   "cell_type": "code",
   "execution_count": null,
   "id": "807904b6-2ffc-4997-95da-625a2e3851c9",
   "metadata": {},
   "outputs": [],
   "source": [
    "# List based looping\n",
    "print('############## index based looping ')\n",
    "for idx in range(len(l)):\n",
    "    print(l[idx])\n",
    "\n",
    "# shorthand to loop through elements in a list\n",
    "print('############## shorthand to loop through elements in a list')\n",
    "for elt in l: \n",
    "    print(elt)\n",
    "\n",
    "# List based looping, while getting the index number\n",
    "print('############## List based looping, while getting the index number ')\n",
    "for idx, elt in enumerate(l):\n",
    "    print(idx, elt)"
   ]
  },
  {
   "cell_type": "code",
   "execution_count": null,
   "id": "2b87758e-69f0-4481-9de4-95d72034a5e8",
   "metadata": {},
   "outputs": [],
   "source": [
    "# Looping element in dictionary\n",
    "\n",
    "# only keys\n",
    "for i in d:\n",
    "    print(i)\n",
    "\n",
    "# keys and values\n",
    "for k, v in d.items():\n",
    "    print(f'Key: {k}, Value: {v}')"
   ]
  },
  {
   "cell_type": "code",
   "execution_count": null,
   "id": "fa2cb78e-1df5-4639-8a95-0fb8ac9c5679",
   "metadata": {},
   "outputs": [],
   "source": [
    "# list comprehension\n",
    "# instead of writing a loop, we can use the loop inside a [] to create another list\n",
    "# Here we multiply each element in l by 2 and create a new list\n",
    "[elt*2 for elt in l]"
   ]
  },
  {
   "cell_type": "code",
   "execution_count": null,
   "id": "0e3748eb-aca8-4c8d-9d62-2d1b88271aa9",
   "metadata": {},
   "outputs": [],
   "source": [
    "# dictionary comprehenmsion\n",
    "# we can create a dictionary using comprehension as well\n",
    "{f'key_{elt}': elt*2 for elt in l}"
   ]
  },
  {
   "cell_type": "markdown",
   "id": "9e3feb69-8701-42c3-afd1-3380fa82bc9c",
   "metadata": {},
   "source": [
    "### Co-locate logic with classes and functions\n",
    "\n",
    "1. **`Functions`**: A block of code that can be reused as needed. This allows us to have logic defined in one place, making it easy to maintain and use. Using it in a location is referred to as calling the function.\n",
    "2. **`Class and Objects`**: Think of a class as a blueprint and objects as things created based on that blueprint.\n",
    "3. **`Library`**: Libraries are code that can be reused. Python comes with standard libraries for common operations, such as a datetime library to work with time (although there are better libraries)—[Standard library](https://docs.python.org/3/library/index.html).\n",
    "4. **`Exception handling`**: When an error occurs, we need our code to gracefully handle it without stopping. "
   ]
  },
  {
   "cell_type": "code",
   "execution_count": null,
   "id": "18ea55f2-f622-41b2-bc95-9419e88b464f",
   "metadata": {},
   "outputs": [],
   "source": [
    "# let's create a function to create an age_bucket for our customer data\n",
    "customer_data = [\n",
    "    {'name': 'customer_1', 'id': 1, 'age': 100},\n",
    "    {'name': 'customer_2', 'id': 2, 'age': 42},\n",
    "    {'name': 'customer_3', 'id': 3, 'age': 25},\n",
    "    {'name': 'customer_4', 'id': 4, 'age': 19},\n",
    "]\n",
    "\n",
    "def get_age_bucket(customer):\n",
    "    customer_age = customer['age']\n",
    "    if customer_age > 85:\n",
    "        return '85+'\n",
    "    elif customer_age > 50:\n",
    "        return '50_85'\n",
    "    elif customer_age > 30:\n",
    "        return '30_50'\n",
    "    else:\n",
    "        return '0_30'\n",
    "\n",
    "for customer in customer_data:\n",
    "    print(customer['age'], get_age_bucket(customer))"
   ]
  },
  {
   "cell_type": "code",
   "execution_count": null,
   "id": "e7da4cd6-3725-429f-97ef-7419b13e969c",
   "metadata": {},
   "outputs": [],
   "source": [
    "class DataExtractor:\n",
    "\n",
    "    def __init__(self, some_value):\n",
    "        self.some_value = some_value\n",
    "\n",
    "    def get_connection(self):\n",
    "        pass\n",
    "\n",
    "    def close_connection(self):\n",
    "        pass\n",
    "\n",
    "de_object = DataExtractor(10)\n",
    "print(de_object.some_value)"
   ]
  },
  {
   "cell_type": "code",
   "execution_count": null,
   "id": "1a15e6b2-da93-4fc8-bf34-2e59d9d56db7",
   "metadata": {},
   "outputs": [],
   "source": [
    "class Pipeline:\n",
    "\n",
    "    def __init__(self, pipeline_type):\n",
    "        self.pipeline_type = pipeline_type # called an object variable, will be specific for individual objects\n",
    "\n",
    "    def extract(self):\n",
    "        print(f'Data is being extracted for {self.pipeline_type}')\n",
    "\n",
    "    def transform(self):\n",
    "        print(f'Data is being transformed for {self.pipeline_type}')\n",
    "\n",
    "    def load(self):\n",
    "        print(f'Data is being loaded for {self.pipeline_type}')\n",
    "\n",
    "    def run(self):\n",
    "        self.extract()\n",
    "        self.transform()\n",
    "        self.load()\n",
    "\n",
    "p1 = Pipeline('customer_pipeline') # we create an object of type Pipeline class\n",
    "p2 = Pipeline('orders_pipeline') # we create another object of type Pipeline class\n",
    "\n",
    "p1.run() # note how the extract, transform and load methods will print customer pipeline\n",
    "print('###########################')\n",
    "p2.run()"
   ]
  },
  {
   "cell_type": "code",
   "execution_count": null,
   "id": "2943a32c-ac96-4276-9327-b33715d4b508",
   "metadata": {},
   "outputs": [],
   "source": [
    "# let's use a standard library to get the current date in YYYY-mm-dd format\n",
    "from datetime import datetime\n",
    "print(datetime.now().strftime('%Y-%m-%d'))"
   ]
  },
  {
   "cell_type": "code",
   "execution_count": null,
   "id": "0bc5f90d-fc80-49f0-b181-fee197ff9eb3",
   "metadata": {},
   "outputs": [],
   "source": [
    "# When we try to access an element that is not part of a list we get an out of index error, \n",
    "# with the try block, the error will be\n",
    "# caught by the except block\n",
    "# finally will be executed irrespective of if there was an error or not\n",
    "l = [1, 2, 3, 4, 5]"
   ]
  },
  {
   "cell_type": "code",
   "execution_count": null,
   "id": "78ae8cb2-ee79-42b8-a020-430c48d9863c",
   "metadata": {},
   "outputs": [],
   "source": [
    "index = 10\n",
    "try:\n",
    "    element = l[index]\n",
    "    print(f\"Element at index {index} is {element}\")\n",
    "except IndexError:\n",
    "    print(f\"Error: Index {index} is out of range for the list.\")\n",
    "finally:\n",
    "    print(\"Execution completed.\")"
   ]
  },
  {
   "cell_type": "code",
   "execution_count": null,
   "id": "542b6298-91b7-4e13-8fae-c949f7b73311",
   "metadata": {},
   "outputs": [],
   "source": [
    "index = 2\n",
    "try:\n",
    "    element = l[index]\n",
    "    print(f\"Element at index {index} is {element}\")\n",
    "except IndexError:\n",
    "    print(f\"Error: Index {index} is out of range for the list.\")\n",
    "finally:\n",
    "    print(\"Execution completed.\")"
   ]
  },
  {
   "cell_type": "markdown",
   "id": "43eab369-e8cf-4195-b128-e47c6c75bd57",
   "metadata": {},
   "source": [
    "## Exercises\n",
    "\n",
    "1. Customer Order Analysis: Write python code that processes a list of customer orders to calculate the total revenue and find the most frequent customer.\n",
    "\n",
    "Each order is a dictionary with keys: customer_id, product, quantity, and price. \n",
    "\n",
    "**Topics**: dictionaries, list operations, loops, data aggregation, max/min functions"
   ]
  },
  {
   "cell_type": "code",
   "execution_count": null,
   "id": "494c1fec-7289-480b-b5e9-287e004e89a0",
   "metadata": {},
   "outputs": [],
   "source": [
    "orders = [\n",
    "    {\"customer_id\": \"C001\", \"product\": \"laptop\", \"quantity\": 2, \"price\": 1200.00},\n",
    "    {\"customer_id\": \"C002\", \"product\": \"mouse\", \"quantity\": 1, \"price\": 25.99},\n",
    "    {\"customer_id\": \"C001\", \"product\": \"keyboard\", \"quantity\": 1, \"price\": 89.50},\n",
    "    {\"customer_id\": \"C003\", \"product\": \"monitor\", \"quantity\": 1, \"price\": 299.99},\n",
    "    {\"customer_id\": \"C002\", \"product\": \"laptop\", \"quantity\": 1, \"price\": 1200.00},\n",
    "    {\"customer_id\": \"C004\", \"product\": \"headphones\", \"quantity\": 3, \"price\": 79.99},\n",
    "    {\"customer_id\": \"C001\", \"product\": \"webcam\", \"quantity\": 1, \"price\": 45.00},\n",
    "    {\"customer_id\": \"C003\", \"product\": \"mouse\", \"quantity\": 2, \"price\": 25.99},\n",
    "    {\"customer_id\": \"C002\", \"product\": \"speaker\", \"quantity\": 1, \"price\": 150.00},\n",
    "    {\"customer_id\": \"C005\", \"product\": \"tablet\", \"quantity\": 1, \"price\": 399.99}\n",
    "]"
   ]
  },
  {
   "cell_type": "markdown",
   "id": "c81a2536-9fd5-4a1e-9d9c-d30f02b27daf",
   "metadata": {},
   "source": [
    "2. Data Quality Checker: Write a Python function that takes a list of email addresses and returns a dictionary with three keys: valid_emails (list), invalid_emails (list), and duplicate_count (int). Use basic validation (must contain '@' and '.' after '@').\n",
    "\n",
    "**Topics**: functions, sets, list comprehension, conditional logic, string operations, data validation"
   ]
  },
  {
   "cell_type": "code",
   "execution_count": null,
   "id": "4e3ec532-4f79-4427-acab-5625d3ec1497",
   "metadata": {},
   "outputs": [],
   "source": [
    "email_list = [\n",
    "    \"john.doe@company.com\",\n",
    "    \"jane.smith@email.co.uk\",\n",
    "    \"invalid-email\",\n",
    "    \"bob@gmail.com\",\n",
    "    \"alice.brown@company.com\",\n",
    "    \"john.doe@company.com\",  # duplicate\n",
    "    \"missing@domain\",\n",
    "    \"test@example.org\",\n",
    "    \"@nodomain.com\",\n",
    "    \"jane.smith@email.co.uk\",  # duplicate\n",
    "    \"valid.user@site.net\",\n",
    "    \"no-at-symbol.com\",\n",
    "    \"another@test.io\"\n",
    "]"
   ]
  },
  {
   "cell_type": "markdown",
   "id": "45fdd0ac-1b51-404c-9c25-2c46cd5850af",
   "metadata": {},
   "source": [
    "3. Sales Performance Tracker: Create a class called SalesRep that stores a representative's name and a list of their monthly sales. Include methods to add monthly sales, calculate average sales, and determine if they hit a target (parameter). Create 3 sales reps and compare their performance.\n",
    "    \n",
    "**Topics**: classes, objects, methods, loops, arithmetic operations, comparison logic"
   ]
  },
  {
   "cell_type": "code",
   "execution_count": null,
   "id": "fd8516cf-97cc-49c5-bf9e-bf7413be1585",
   "metadata": {},
   "outputs": [],
   "source": [
    "# Sample data for creating SalesRep objects\n",
    "sales_data = {\n",
    "    \"Alice Johnson\": [15000, 18000, 22000, 16000, 19000, 21000],\n",
    "    \"Bob Smith\": [12000, 14000, 11000, 13000, 15000, 16000],\n",
    "    \"Carol Davis\": [25000, 28000, 30000, 27000, 32000, 29000]\n",
    "}"
   ]
  }
 ],
 "metadata": {
  "kernelspec": {
   "display_name": "Python 3 (ipykernel)",
   "language": "python",
   "name": "python3"
  },
  "language_info": {
   "codemirror_mode": {
    "name": "ipython",
    "version": 3
   },
   "file_extension": ".py",
   "mimetype": "text/x-python",
   "name": "python",
   "nbconvert_exporter": "python",
   "pygments_lexer": "ipython3",
   "version": "3.10.16"
  }
 },
 "nbformat": 4,
 "nbformat_minor": 5
}
