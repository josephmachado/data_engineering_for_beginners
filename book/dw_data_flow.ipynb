{
 "cells": [
  {
   "cell_type": "markdown",
   "id": "0dc9bb65-2c0a-492a-a5a5-474fc0793abd",
   "metadata": {},
   "source": [
    "---\n",
    "title: \"Most companies use the multi-hop architecture\"\n",
    "format:\n",
    "  html:\n",
    "    toc: true\n",
    "execute:\n",
    "    eval: false\n",
    "    output: true\n",
    "---"
   ]
  },
  {
   "cell_type": "markdown",
   "id": "24e40768-0838-4387-93b2-ea0553f41d94",
   "metadata": {},
   "source": [
    "\n",
    "Following an established way of processing data accounts for handling common potential issues, and you have plenty of resources to reference. Most industry-standard patterns follow a 3-hop (or layered) architecture. They are \n",
    "\n",
    "1. **Raw layer** stores data from upstream sources as is. This layer sometimes involves changing data types and standardizing column names.\n",
    "2. **Transformed layer**: Data from the raw layer is transformed based on a chosen modeling principle to form a set of tables. Common modeling principles are Dimensional modeling (Kimball), Data Vault model, entity-relationship data model, etc.\n",
    "3. **Consumption layer**: Data from the transformed layer are combined to form datasets that directly map to the end-user use case. The consumption layer typically involves joining and aggregating transformed layer tables to enable end-users to analyze historical performance. **Business-specific metrics** are often defined at this layer.  We should ensure that **a  metric is only defined in one place**.\n",
    "4. **Interface layer [Optional]**: Data in the consumption layer often confirms the data warehouse naming/data types, etc. However, the data presented to the end user should be easy to use and understand. An interface layer is often a **view** that acts as an interface between the warehouse table and the consumers of this table.\n",
    "\n",
    "Most frameworks/tools propose their version of the 3-hop architecture: \n",
    "1. [Apache Spark: Medallion architecture](https://www.databricks.com/glossary/medallion-architecture)\n",
    "2. [dbt: Project Structure](https://docs.getdbt.com/guides/best-practices/how-we-structure/1-guide-overview).\n",
    "\n",
    "Shown below is our project's 3-hop architecture:\n",
    "\n",
    "![Data architecture](/images/de_best_practices/data_flow.png)\n",
    "\n",
    "The bronze, silver, gold, and interface layers correspond to the abovementioned raw, transformed, consumption, and interface layers. We have used **[dimensional modeling]({{< ref \"/post/what-is-a-data-warehouse.md#3-what-is-a-data-warehouse\" >}})** (with **[SCD2]({{< ref \"/post/how-to-join-fact-scd2-tables.md#what-is-an-scd2-table-and-why-use-it\" >}})** for dim_customers) for our silver layer. \n",
    "\n",
    "For a pipeline/transformation function/table, inputs are called **upstream**, and output users are called **downstream** consumers.\n",
    "\n",
    "At larger companies, multiple teams work on different layers. A data ingestion team may bring the data into the bronze layer, and other teams may build their own silver and gold tables as necessary.\n"
   ]
  },
  {
   "cell_type": "code",
   "execution_count": null,
   "id": "169e7a1b-0779-4beb-b123-888aa447a769",
   "metadata": {},
   "outputs": [],
   "source": []
  }
 ],
 "metadata": {
  "kernelspec": {
   "display_name": "Python 3 (ipykernel)",
   "language": "python",
   "name": "python3"
  },
  "language_info": {
   "codemirror_mode": {
    "name": "ipython",
    "version": 3
   },
   "file_extension": ".py",
   "mimetype": "text/x-python",
   "name": "python",
   "nbconvert_exporter": "python",
   "pygments_lexer": "ipython3",
   "version": "3.10.16"
  }
 },
 "nbformat": 4,
 "nbformat_minor": 5
}
