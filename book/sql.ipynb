{
 "cells": [
  {
   "cell_type": "markdown",
   "id": "dac9a813-ef52-4262-9025-82da9ad0902b",
   "metadata": {},
   "source": [
    "---\n",
    "title: \"Use SQL to transform data\"\n",
    "format:\n",
    "  html:\n",
    "    toc: true\n",
    "execute:\n",
    "    eval: false\n",
    "    output: true\n",
    "---"
   ]
  },
  {
   "cell_type": "markdown",
   "id": "23791722-84e5-4a44-bdc1-19b4b25daf22",
   "metadata": {},
   "source": [
    "SQL is the foundation on which data engineering works. Most data pipelines are SQL scripts strung together. While there are caveats for using Python v SQL (add:link) in data engineering, almost always SQL (or SQL-like dataframe) are the way you will code.\n",
    "\n",
    "In data engineering context, SQL is used for \n",
    "\n",
    "1. Analytical querying, which involves large amounts of data and aggeregating them to create metrics that define how well business has been performing (e.g. daily active users for a social media company) and how to predict the future.\n",
    "\n",
    "2. Data processing, which involves transforming the data from multiple systems into well modelled datasets that can be used for analytics.\n",
    "\n",
    "In this section we will see how to use SQL to transform data, and how to use window functions to enable complex computations in SQL.\n"
   ]
  }
 ],
 "metadata": {
  "kernelspec": {
   "display_name": "Python 3 (ipykernel)",
   "language": "python",
   "name": "python3"
  },
  "language_info": {
   "codemirror_mode": {
    "name": "ipython",
    "version": 3
   },
   "file_extension": ".py",
   "mimetype": "text/x-python",
   "name": "python",
   "nbconvert_exporter": "python",
   "pygments_lexer": "ipython3",
   "version": "3.10.16"
  }
 },
 "nbformat": 4,
 "nbformat_minor": 5
}
