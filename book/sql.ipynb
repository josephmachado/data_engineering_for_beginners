{
 "cells": [
  {
   "cell_type": "markdown",
   "id": "dac9a813-ef52-4262-9025-82da9ad0902b",
   "metadata": {},
   "source": [
    "---\n",
    "title: \"Use SQL to transform data\"\n",
    "format:\n",
    "  html:\n",
    "    toc: true\n",
    "execute:\n",
    "    eval: false\n",
    "    output: true\n",
    "---"
   ]
  },
  {
   "cell_type": "markdown",
   "id": "23791722-84e5-4a44-bdc1-19b4b25daf22",
   "metadata": {},
   "source": [
    "SQL is the foundation on which data engineering works. Most data pipelines consist of SQL scripts tied together. Knowing how to manipulate data with SQL expands to other interfaces, such as Dataframe, since they are used for similar processing but with a different API.\n",
    "\n",
    "In the data engineering context, SQL is used for \n",
    "\n",
    "1. Analytical querying, which involves significant amounts of data and aggregating them to create metrics that define how well the business has been performing (e.g., daily active users for a social media company) and how to predict the future.\n",
    "\n",
    "2. Data processing, which involves transforming the data from multiple systems into well-modelled datasets that can be used for analytics.\n",
    "\n",
    "Knowing SQL in depth will enable you to build and maintain data systems effectively and troubleshoot any data issues.\n",
    "\n",
    "In this section, we will explore how to utilize SQL to transform data and how to leverage window functions to facilitate complex computations within SQL.\n"
   ]
  },
  {
   "cell_type": "code",
   "execution_count": null,
   "id": "4691c506-85a2-4193-b36b-d71ea8740b42",
   "metadata": {},
   "outputs": [],
   "source": []
  }
 ],
 "metadata": {
  "kernelspec": {
   "display_name": "Python 3 (ipykernel)",
   "language": "python",
   "name": "python3"
  },
  "language_info": {
   "codemirror_mode": {
    "name": "ipython",
    "version": 3
   },
   "file_extension": ".py",
   "mimetype": "text/x-python",
   "name": "python",
   "nbconvert_exporter": "python",
   "pygments_lexer": "ipython3",
   "version": "3.10.16"
  }
 },
 "nbformat": 4,
 "nbformat_minor": 5
}
