{
 "cells": [
  {
   "cell_type": "markdown",
   "id": "2bc1f03a-a613-47bd-879f-ad4c1ba566fe",
   "metadata": {},
   "source": [
    "---\n",
    "title: \"Working in a team\"\n",
    "format:\n",
    "  html:\n",
    "    toc: true\n",
    "execute:\n",
    "    eval: false\n",
    "    output: true\n",
    "---"
   ]
  },
  {
   "cell_type": "markdown",
   "id": "381d185e-92e1-45f4-8e32-dd23d9208844",
   "metadata": {},
   "source": [
    "\n",
    "Data engineering has multiple components and its crucial that you have the same environment that runs in production is also aavailable to the dta engineers to test and develop in.\n",
    "\n",
    "In this section we will see how docker is used to simulate the same running environment across multiple systems."
   ]
  },
  {
   "cell_type": "code",
   "execution_count": null,
   "id": "2285d4c6-c0a8-4d80-ba98-849a563b2959",
   "metadata": {},
   "outputs": [],
   "source": []
  }
 ],
 "metadata": {
  "kernelspec": {
   "display_name": "Python 3 (ipykernel)",
   "language": "python",
   "name": "python3"
  },
  "language_info": {
   "codemirror_mode": {
    "name": "ipython",
    "version": 3
   },
   "file_extension": ".py",
   "mimetype": "text/x-python",
   "name": "python",
   "nbconvert_exporter": "python",
   "pygments_lexer": "ipython3",
   "version": "3.10.16"
  }
 },
 "nbformat": 4,
 "nbformat_minor": 5
}
