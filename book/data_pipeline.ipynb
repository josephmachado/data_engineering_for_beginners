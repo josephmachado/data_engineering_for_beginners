{
 "cells": [
  {
   "cell_type": "markdown",
   "id": "22a36f10-5c79-48b1-a018-49743ea5390b",
   "metadata": {},
   "source": [
    "---\n",
    "title: \"Scheduler defines when & Orchestrator defines how to, run your data pipelines\"\n",
    "format:\n",
    "  html:\n",
    "    toc: true\n",
    "execute:\n",
    "    eval: false\n",
    "    output: true\n",
    "---"
   ]
  },
  {
   "cell_type": "markdown",
   "id": "13b5c737-195b-4136-979c-aac21fe6e9e9",
   "metadata": {},
   "source": [
    "\n",
    "Schedulers define when to start your data pipeline, e.g. cron, Airflow, etc.\n",
    "\n",
    "Orchestrators defines the order in which the tasks of a data pipeline should run. For example extract before transform, complex branching logic, excuting across multiple systems such as spark and snowflake, etc. E.g., dbt-core, Airflow, etc\n"
   ]
  },
  {
   "cell_type": "code",
   "execution_count": null,
   "id": "9e8d8581-1730-4c8f-85a0-260f02f87421",
   "metadata": {},
   "outputs": [],
   "source": []
  }
 ],
 "metadata": {
  "kernelspec": {
   "display_name": "Python 3 (ipykernel)",
   "language": "python",
   "name": "python3"
  },
  "language_info": {
   "codemirror_mode": {
    "name": "ipython",
    "version": 3
   },
   "file_extension": ".py",
   "mimetype": "text/x-python",
   "name": "python",
   "nbconvert_exporter": "python",
   "pygments_lexer": "ipython3",
   "version": "3.10.16"
  }
 },
 "nbformat": 4,
 "nbformat_minor": 5
}
