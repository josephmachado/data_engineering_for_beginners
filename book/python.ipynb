{
 "cells": [
  {
   "cell_type": "markdown",
   "id": "d67521dc-c0af-49d1-b6cb-58f58ed76ba5",
   "metadata": {},
   "source": [
    "---\n",
    "title: \"Python connects the different part of your data pipeline\"\n",
    "format:\n",
    "  html:\n",
    "    toc: true\n",
    "execute:\n",
    "    eval: false\n",
    "    output: true\n",
    "---"
   ]
  },
  {
   "cell_type": "markdown",
   "id": "e463a570-6caf-44d4-923d-4bd97b70cbad",
   "metadata": {
    "jp-MarkdownHeadingCollapsed": true
   },
   "source": [
    "\n",
    "\n",
    "Python is the glue that holds the various parts of your data pipeline together. While powerful data processing engines (Snowflake, Spark, BigQuery, etc) have made processing large amounts of data efficient, you still need a programming language to tell these engines what to do.\n",
    "\n",
    "In most companies, Python dominates the data stack. You'll typically use Python to pull data from the source system (Extract), tell the data processing engine how to process the data (e.g, via SQL queries on Snowflake or SQL/Dataframe query on Spark), and load data into its destination.\n",
    "\n",
    "In this section, we will cover the basics of Python, its application in data engineering, and conclude with a topic crucial for ensuring code changes don't break existing logic (testing).\n",
    "\n",
    "## Data is stored on disk and processed in memory\n",
    "\n",
    "Processing data is tricky in Python, since Python is not the most optimal language for large-scale data manipulation. You would often use Python to tell a data processing engine what to do. For this reason, it's critical to understand the difference between disk and memory.\n",
    "\n",
    "![Disk and Memory](./images/python-de.png)\n",
    "\n",
    "When we run a Python (or any language) script, it is run as a process. Each process will use a part of your computer's memory (RAM). Understanding the difference between RAM and Disk will enable you to write efficient data pipelines; let's go over them:\n",
    "\n",
    "1. **`Memory`** is the space used by a running process to store any information that it may need for its operation. The computer's RAM is used for this purpose. This is where any variables you define and the Pandas dataframe you use will be stored.\n",
    "2. **`Disk`** is used to store data. When we process data from disk (read data from a CSV, etc.), it means that our process reads data from disk into memory and then processes it. Computers generally use HDDs or SSDs to store files.\n",
    "\n",
    "RAM is expensive, while disk (HDD, SSD) is cheaper. One issue with data processing is that the memory available to use is often less than the size of the data to be processed. This is when we utilize distributed systems, such as Spark or DuckDB, which enable us to process data larger than memory.\n",
    "\n",
    "As we will see in the transformation sections, when we use systems like Spark, Snowflake, or Duckdb, Python is just the interface; the real data processing (and Memory and disk usage) depends on the data processing engine.\n"
   ]
  }
 ],
 "metadata": {
  "kernelspec": {
   "display_name": "Python 3 (ipykernel)",
   "language": "python",
   "name": "python3"
  },
  "language_info": {
   "codemirror_mode": {
    "name": "ipython",
    "version": 3
   },
   "file_extension": ".py",
   "mimetype": "text/x-python",
   "name": "python",
   "nbconvert_exporter": "python",
   "pygments_lexer": "ipython3",
   "version": "3.10.16"
  }
 },
 "nbformat": 4,
 "nbformat_minor": 5
}
