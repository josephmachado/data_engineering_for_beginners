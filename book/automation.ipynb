{
 "cells": [
  {
   "cell_type": "markdown",
   "id": "1da57eaf-2e40-43df-a6a5-f4aba67f23eb",
   "metadata": {},
   "source": [
    "## Install required tools"
   ]
  },
  {
   "cell_type": "code",
   "execution_count": null,
   "id": "0805170d-c306-4271-8e94-9331d60b860c",
   "metadata": {
    "scrolled": true
   },
   "outputs": [],
   "source": [
    "! pip install quarto-cli"
   ]
  },
  {
   "cell_type": "markdown",
   "id": "d43bf1ee-0cfd-48a3-885a-1c3d288bdeaa",
   "metadata": {},
   "source": [
    "## Initialize quarto project (one time only)"
   ]
  },
  {
   "cell_type": "code",
   "execution_count": null,
   "id": "7c8e814f-7283-4d43-8e9b-0e85ef184f43",
   "metadata": {},
   "outputs": [],
   "source": [
    "! pwd"
   ]
  },
  {
   "cell_type": "markdown",
   "id": "25ce9d02-19d1-48cc-aa75-db0f82a25df8",
   "metadata": {},
   "source": [
    "Run the following command via terminal:\n",
    "\n",
    "```bash\n",
    "quarto create project book data-engineering-for-beginners\n",
    "```"
   ]
  },
  {
   "cell_type": "markdown",
   "id": "43938de8-adca-4a20-9201-698e6734ec62",
   "metadata": {},
   "source": [
    "## Convert notebooks to qmd"
   ]
  },
  {
   "cell_type": "code",
   "execution_count": null,
   "id": "97a4f98e-2291-48d0-82c0-249629bbd7b7",
   "metadata": {},
   "outputs": [],
   "source": [
    "%%bash\n",
    "for i in *.ipynb; do [[ \"$i\" != \"automation.ipynb\" ]] && quarto convert \"$i\"; done"
   ]
  },
  {
   "cell_type": "markdown",
   "id": "355970bc-d3e7-4bd5-b1fb-fa8910dbf784",
   "metadata": {},
   "source": [
    "## Preview quarto book"
   ]
  },
  {
   "cell_type": "code",
   "execution_count": null,
   "id": "9e24de00-6eed-4425-8759-3e30cffe991d",
   "metadata": {
    "scrolled": true
   },
   "outputs": [],
   "source": [
    "! quarto preview . --port 4778 --host 0.0.0.0"
   ]
  },
  {
   "cell_type": "code",
   "execution_count": null,
   "id": "f89a9a08-8299-4130-b48a-591cd4920f5d",
   "metadata": {},
   "outputs": [],
   "source": []
  }
 ],
 "metadata": {
  "kernelspec": {
   "display_name": "Python 3 (ipykernel)",
   "language": "python",
   "name": "python3"
  },
  "language_info": {
   "codemirror_mode": {
    "name": "ipython",
    "version": 3
   },
   "file_extension": ".py",
   "mimetype": "text/x-python",
   "name": "python",
   "nbconvert_exporter": "python",
   "pygments_lexer": "ipython3",
   "version": "3.10.16"
  }
 },
 "nbformat": 4,
 "nbformat_minor": 5
}
