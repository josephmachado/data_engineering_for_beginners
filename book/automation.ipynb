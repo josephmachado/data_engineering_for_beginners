{
 "cells": [
  {
   "cell_type": "markdown",
   "id": "1da57eaf-2e40-43df-a6a5-f4aba67f23eb",
   "metadata": {},
   "source": [
    "## Install required tools"
   ]
  },
  {
   "cell_type": "code",
   "execution_count": 1,
   "id": "0805170d-c306-4271-8e94-9331d60b860c",
   "metadata": {
    "scrolled": true
   },
   "outputs": [
    {
     "name": "stdout",
     "output_type": "stream",
     "text": [
      "Collecting quarto-cli\n",
      "  Downloading quarto_cli-1.7.32.tar.gz (4.6 kB)\n",
      "  Installing build dependencies ... \u001b[?2done\n",
      "\u001b[?25h  Getting requirements to build wheel ... \u001b[?25ldone\n",
      "\u001b[?25h  Preparing metadata (pyproject.toml) ... \u001b[?25ldone\n",
      "\u001b[?25hRequirement already satisfied: wheel in /usr/local/lib/python3.10/site-packages (from quarto-cli) (0.45.1)\n",
      "Requirement already satisfied: jupyter in /usr/local/lib/python3.10/site-packages (from quarto-cli) (1.1.1)\n",
      "Requirement already satisfied: nbclient in /usr/local/lib/python3.10/site-packages (from quarto-cli) (0.10.2)\n",
      "Requirement already satisfied: ipykernel in /usr/local/lib/python3.10/site-packages (from jupyter->quarto-cli) (6.29.5)\n",
      "Requirement already satisfied: ipywidgets in /usr/local/lib/python3.10/site-packages (from jupyter->quarto-cli) (8.1.5)\n",
      "Requirement already satisfied: nbconvert in /usr/local/lib/python3.10/site-packages (from jupyter->quarto-cli) (7.16.6)\n",
      "Requirement already satisfied: notebook in /usr/local/lib/python3.10/site-packages (from jupyter->quarto-cli) (7.3.2)\n",
      "Requirement already satisfied: jupyter-console in /usr/local/lib/python3.10/site-packages (from jupyter->quarto-cli) (6.6.3)\n",
      "Requirement already satisfied: jupyterlab in /usr/local/lib/python3.10/site-packages (from jupyter->quarto-cli) (4.3.5)\n",
      "Requirement already satisfied: traitlets>=5.4 in /usr/local/lib/python3.10/site-packages (from nbclient->quarto-cli) (5.14.3)\n",
      "Requirement already satisfied: jupyter-core!=5.0.*,>=4.12 in /usr/local/lib/python3.10/site-packages (from nbclient->quarto-cli) (5.7.2)\n",
      "Requirement already satisfied: jupyter-client>=6.1.12 in /usr/local/lib/python3.10/site-packages (from nbclient->quarto-cli) (8.6.3)\n",
      "Requirement already satisfied: nbformat>=5.1 in /usr/local/lib/python3.10/site-packages (from nbclient->quarto-cli) (5.10.4)\n",
      "Requirement already satisfied: pyzmq>=23.0 in /usr/local/lib/python3.10/site-packages (from jupyter-client>=6.1.12->nbclient->quarto-cli) (26.2.1)\n",
      "Requirement already satisfied: python-dateutil>=2.8.2 in /usr/local/lib/python3.10/site-packages (from jupyter-client>=6.1.12->nbclient->quarto-cli) (2.9.0.post0)\n",
      "Requirement already satisfied: tornado>=6.2 in /usr/local/lib/python3.10/site-packages (from jupyter-client>=6.1.12->nbclient->quarto-cli) (6.4.2)\n",
      "Requirement already satisfied: platformdirs>=2.5 in /usr/local/lib/python3.10/site-packages (from jupyter-core!=5.0.*,>=4.12->nbclient->quarto-cli) (4.3.6)\n",
      "Requirement already satisfied: fastjsonschema>=2.15 in /usr/local/lib/python3.10/site-packages (from nbformat>=5.1->nbclient->quarto-cli) (2.21.1)\n",
      "Requirement already satisfied: jsonschema>=2.6 in /usr/local/lib/python3.10/site-packages (from nbformat>=5.1->nbclient->quarto-cli) (4.23.0)\n",
      "Requirement already satisfied: nest-asyncio in /usr/local/lib/python3.10/site-packages (from ipykernel->jupyter->quarto-cli) (1.6.0)\n",
      "Requirement already satisfied: packaging in /usr/local/lib/python3.10/site-packages (from ipykernel->jupyter->quarto-cli) (24.2)\n",
      "Requirement already satisfied: psutil in /usr/local/lib/python3.10/site-packages (from ipykernel->jupyter->quarto-cli) (7.0.0)\n",
      "Requirement already satisfied: matplotlib-inline>=0.1 in /usr/local/lib/python3.10/site-packages (from ipykernel->jupyter->quarto-cli) (0.1.7)\n",
      "Requirement already satisfied: debugpy>=1.6.5 in /usr/local/lib/python3.10/site-packages (from ipykernel->jupyter->quarto-cli) (1.8.13)\n",
      "Requirement already satisfied: ipython>=7.23.1 in /usr/local/lib/python3.10/site-packages (from ipykernel->jupyter->quarto-cli) (8.34.0)\n",
      "Requirement already satisfied: comm>=0.1.1 in /usr/local/lib/python3.10/site-packages (from ipykernel->jupyter->quarto-cli) (0.2.2)\n",
      "Requirement already satisfied: jupyterlab-widgets~=3.0.12 in /usr/local/lib/python3.10/site-packages (from ipywidgets->jupyter->quarto-cli) (3.0.13)\n",
      "Requirement already satisfied: widgetsnbextension~=4.0.12 in /usr/local/lib/python3.10/site-packages (from ipywidgets->jupyter->quarto-cli) (4.0.13)\n",
      "Requirement already satisfied: pygments in /usr/local/lib/python3.10/site-packages (from jupyter-console->jupyter->quarto-cli) (2.19.1)\n",
      "Requirement already satisfied: prompt-toolkit>=3.0.30 in /usr/local/lib/python3.10/site-packages (from jupyter-console->jupyter->quarto-cli) (3.0.50)\n",
      "Requirement already satisfied: setuptools>=40.8.0 in /usr/local/lib/python3.10/site-packages (from jupyterlab->jupyter->quarto-cli) (65.5.1)\n",
      "Requirement already satisfied: tomli>=1.2.2 in /usr/local/lib/python3.10/site-packages (from jupyterlab->jupyter->quarto-cli) (2.2.1)\n",
      "Requirement already satisfied: jupyter-server<3,>=2.4.0 in /usr/local/lib/python3.10/site-packages (from jupyterlab->jupyter->quarto-cli) (2.15.0)\n",
      "Requirement already satisfied: async-lru>=1.0.0 in /usr/local/lib/python3.10/site-packages (from jupyterlab->jupyter->quarto-cli) (2.0.4)\n",
      "Requirement already satisfied: jupyterlab-server<3,>=2.27.1 in /usr/local/lib/python3.10/site-packages (from jupyterlab->jupyter->quarto-cli) (2.27.3)\n",
      "Requirement already satisfied: notebook-shim>=0.2 in /usr/local/lib/python3.10/site-packages (from jupyterlab->jupyter->quarto-cli) (0.2.4)\n",
      "Requirement already satisfied: httpx>=0.25.0 in /usr/local/lib/python3.10/site-packages (from jupyterlab->jupyter->quarto-cli) (0.28.1)\n",
      "Requirement already satisfied: jupyter-lsp>=2.0.0 in /usr/local/lib/python3.10/site-packages (from jupyterlab->jupyter->quarto-cli) (2.2.5)\n",
      "Requirement already satisfied: jinja2>=3.0.3 in /usr/local/lib/python3.10/site-packages (from jupyterlab->jupyter->quarto-cli) (3.1.6)\n",
      "Requirement already satisfied: jupyterlab-pygments in /usr/local/lib/python3.10/site-packages (from nbconvert->jupyter->quarto-cli) (0.3.0)\n",
      "Requirement already satisfied: mistune<4,>=2.0.3 in /usr/local/lib/python3.10/site-packages (from nbconvert->jupyter->quarto-cli) (3.1.2)\n",
      "Requirement already satisfied: pandocfilters>=1.4.1 in /usr/local/lib/python3.10/site-packages (from nbconvert->jupyter->quarto-cli) (1.5.1)\n",
      "Requirement already satisfied: bleach[css]!=5.0.0 in /usr/local/lib/python3.10/site-packages (from nbconvert->jupyter->quarto-cli) (6.2.0)\n",
      "Requirement already satisfied: defusedxml in /usr/local/lib/python3.10/site-packages (from nbconvert->jupyter->quarto-cli) (0.7.1)\n",
      "Requirement already satisfied: beautifulsoup4 in /usr/local/lib/python3.10/site-packages (from nbconvert->jupyter->quarto-cli) (4.13.3)\n",
      "Requirement already satisfied: markupsafe>=2.0 in /usr/local/lib/python3.10/site-packages (from nbconvert->jupyter->quarto-cli) (3.0.2)\n",
      "Requirement already satisfied: typing-extensions>=4.0.0 in /usr/local/lib/python3.10/site-packages (from async-lru>=1.0.0->jupyterlab->jupyter->quarto-cli) (4.12.2)\n",
      "Requirement already satisfied: webencodings in /usr/local/lib/python3.10/site-packages (from bleach[css]!=5.0.0->nbconvert->jupyter->quarto-cli) (0.5.1)\n",
      "Requirement already satisfied: tinycss2<1.5,>=1.1.0 in /usr/local/lib/python3.10/site-packages (from bleach[css]!=5.0.0->nbconvert->jupyter->quarto-cli) (1.4.0)\n",
      "Requirement already satisfied: certifi in /usr/local/lib/python3.10/site-packages (from httpx>=0.25.0->jupyterlab->jupyter->quarto-cli) (2025.1.31)\n",
      "Requirement already satisfied: idna in /usr/local/lib/python3.10/site-packages (from httpx>=0.25.0->jupyterlab->jupyter->quarto-cli) (3.10)\n",
      "Requirement already satisfied: anyio in /usr/local/lib/python3.10/site-packages (from httpx>=0.25.0->jupyterlab->jupyter->quarto-cli) (4.8.0)\n",
      "Requirement already satisfied: httpcore==1.* in /usr/local/lib/python3.10/site-packages (from httpx>=0.25.0->jupyterlab->jupyter->quarto-cli) (1.0.7)\n",
      "Requirement already satisfied: h11<0.15,>=0.13 in /usr/local/lib/python3.10/site-packages (from httpcore==1.*->httpx>=0.25.0->jupyterlab->jupyter->quarto-cli) (0.14.0)\n",
      "Requirement already satisfied: stack_data in /usr/local/lib/python3.10/site-packages (from ipython>=7.23.1->ipykernel->jupyter->quarto-cli) (0.6.3)\n",
      "Requirement already satisfied: decorator in /usr/local/lib/python3.10/site-packages (from ipython>=7.23.1->ipykernel->jupyter->quarto-cli) (5.2.1)\n",
      "Requirement already satisfied: jedi>=0.16 in /usr/local/lib/python3.10/site-packages (from ipython>=7.23.1->ipykernel->jupyter->quarto-cli) (0.19.2)\n",
      "Requirement already satisfied: exceptiongroup in /usr/local/lib/python3.10/site-packages (from ipython>=7.23.1->ipykernel->jupyter->quarto-cli) (1.2.2)\n",
      "Requirement already satisfied: pexpect>4.3 in /usr/local/lib/python3.10/site-packages (from ipython>=7.23.1->ipykernel->jupyter->quarto-cli) (4.9.0)\n",
      "Requirement already satisfied: attrs>=22.2.0 in /usr/local/lib/python3.10/site-packages (from jsonschema>=2.6->nbformat>=5.1->nbclient->quarto-cli) (25.1.0)\n",
      "Requirement already satisfied: jsonschema-specifications>=2023.03.6 in /usr/local/lib/python3.10/site-packages (from jsonschema>=2.6->nbformat>=5.1->nbclient->quarto-cli) (2024.10.1)\n",
      "Requirement already satisfied: rpds-py>=0.7.1 in /usr/local/lib/python3.10/site-packages (from jsonschema>=2.6->nbformat>=5.1->nbclient->quarto-cli) (0.23.1)\n",
      "Requirement already satisfied: referencing>=0.28.4 in /usr/local/lib/python3.10/site-packages (from jsonschema>=2.6->nbformat>=5.1->nbclient->quarto-cli) (0.36.2)\n",
      "Requirement already satisfied: send2trash>=1.8.2 in /usr/local/lib/python3.10/site-packages (from jupyter-server<3,>=2.4.0->jupyterlab->jupyter->quarto-cli) (1.8.3)\n",
      "Requirement already satisfied: terminado>=0.8.3 in /usr/local/lib/python3.10/site-packages (from jupyter-server<3,>=2.4.0->jupyterlab->jupyter->quarto-cli) (0.18.1)\n",
      "Requirement already satisfied: jupyter-events>=0.11.0 in /usr/local/lib/python3.10/site-packages (from jupyter-server<3,>=2.4.0->jupyterlab->jupyter->quarto-cli) (0.12.0)\n",
      "Requirement already satisfied: jupyter-server-terminals>=0.4.4 in /usr/local/lib/python3.10/site-packages (from jupyter-server<3,>=2.4.0->jupyterlab->jupyter->quarto-cli) (0.5.3)\n",
      "Requirement already satisfied: overrides>=5.0 in /usr/local/lib/python3.10/site-packages (from jupyter-server<3,>=2.4.0->jupyterlab->jupyter->quarto-cli) (7.7.0)\n",
      "Requirement already satisfied: websocket-client>=1.7 in /usr/local/lib/python3.10/site-packages (from jupyter-server<3,>=2.4.0->jupyterlab->jupyter->quarto-cli) (1.8.0)\n",
      "Requirement already satisfied: prometheus-client>=0.9 in /usr/local/lib/python3.10/site-packages (from jupyter-server<3,>=2.4.0->jupyterlab->jupyter->quarto-cli) (0.21.1)\n",
      "Requirement already satisfied: argon2-cffi>=21.1 in /usr/local/lib/python3.10/site-packages (from jupyter-server<3,>=2.4.0->jupyterlab->jupyter->quarto-cli) (23.1.0)\n",
      "Requirement already satisfied: babel>=2.10 in /usr/local/lib/python3.10/site-packages (from jupyterlab-server<3,>=2.27.1->jupyterlab->jupyter->quarto-cli) (2.17.0)\n",
      "Requirement already satisfied: requests>=2.31 in /usr/local/lib/python3.10/site-packages (from jupyterlab-server<3,>=2.27.1->jupyterlab->jupyter->quarto-cli) (2.32.3)\n",
      "Requirement already satisfied: json5>=0.9.0 in /usr/local/lib/python3.10/site-packages (from jupyterlab-server<3,>=2.27.1->jupyterlab->jupyter->quarto-cli) (0.10.0)\n",
      "Requirement already satisfied: wcwidth in /usr/local/lib/python3.10/site-packages (from prompt-toolkit>=3.0.30->jupyter-console->jupyter->quarto-cli) (0.2.13)\n",
      "Requirement already satisfied: six>=1.5 in /usr/local/lib/python3.10/site-packages (from python-dateutil>=2.8.2->jupyter-client>=6.1.12->nbclient->quarto-cli) (1.17.0)\n",
      "Requirement already satisfied: soupsieve>1.2 in /usr/local/lib/python3.10/site-packages (from beautifulsoup4->nbconvert->jupyter->quarto-cli) (2.6)\n",
      "Requirement already satisfied: sniffio>=1.1 in /usr/local/lib/python3.10/site-packages (from anyio->httpx>=0.25.0->jupyterlab->jupyter->quarto-cli) (1.3.1)\n",
      "Requirement already satisfied: argon2-cffi-bindings in /usr/local/lib/python3.10/site-packages (from argon2-cffi>=21.1->jupyter-server<3,>=2.4.0->jupyterlab->jupyter->quarto-cli) (21.2.0)\n",
      "Requirement already satisfied: parso<0.9.0,>=0.8.4 in /usr/local/lib/python3.10/site-packages (from jedi>=0.16->ipython>=7.23.1->ipykernel->jupyter->quarto-cli) (0.8.4)\n",
      "Requirement already satisfied: rfc3339-validator in /usr/local/lib/python3.10/site-packages (from jupyter-events>=0.11.0->jupyter-server<3,>=2.4.0->jupyterlab->jupyter->quarto-cli) (0.1.4)\n",
      "Requirement already satisfied: rfc3986-validator>=0.1.1 in /usr/local/lib/python3.10/site-packages (from jupyter-events>=0.11.0->jupyter-server<3,>=2.4.0->jupyterlab->jupyter->quarto-cli) (0.1.1)\n",
      "Requirement already satisfied: python-json-logger>=2.0.4 in /usr/local/lib/python3.10/site-packages (from jupyter-events>=0.11.0->jupyter-server<3,>=2.4.0->jupyterlab->jupyter->quarto-cli) (3.3.0)\n",
      "Requirement already satisfied: pyyaml>=5.3 in /usr/local/lib/python3.10/site-packages (from jupyter-events>=0.11.0->jupyter-server<3,>=2.4.0->jupyterlab->jupyter->quarto-cli) (6.0.2)\n",
      "Requirement already satisfied: ptyprocess>=0.5 in /usr/local/lib/python3.10/site-packages (from pexpect>4.3->ipython>=7.23.1->ipykernel->jupyter->quarto-cli) (0.7.0)\n",
      "Requirement already satisfied: urllib3<3,>=1.21.1 in /usr/local/lib/python3.10/site-packages (from requests>=2.31->jupyterlab-server<3,>=2.27.1->jupyterlab->jupyter->quarto-cli) (2.3.0)\n",
      "Requirement already satisfied: charset-normalizer<4,>=2 in /usr/local/lib/python3.10/site-packages (from requests>=2.31->jupyterlab-server<3,>=2.27.1->jupyterlab->jupyter->quarto-cli) (3.4.1)\n",
      "Requirement already satisfied: pure-eval in /usr/local/lib/python3.10/site-packages (from stack_data->ipython>=7.23.1->ipykernel->jupyter->quarto-cli) (0.2.3)\n",
      "Requirement already satisfied: executing>=1.2.0 in /usr/local/lib/python3.10/site-packages (from stack_data->ipython>=7.23.1->ipykernel->jupyter->quarto-cli) (2.2.0)\n",
      "Requirement already satisfied: asttokens>=2.1.0 in /usr/local/lib/python3.10/site-packages (from stack_data->ipython>=7.23.1->ipykernel->jupyter->quarto-cli) (3.0.0)\n",
      "Requirement already satisfied: uri-template in /usr/local/lib/python3.10/site-packages (from jsonschema>=2.6->nbformat>=5.1->nbclient->quarto-cli) (1.3.0)\n",
      "Requirement already satisfied: fqdn in /usr/local/lib/python3.10/site-packages (from jsonschema>=2.6->nbformat>=5.1->nbclient->quarto-cli) (1.5.1)\n",
      "Requirement already satisfied: isoduration in /usr/local/lib/python3.10/site-packages (from jsonschema>=2.6->nbformat>=5.1->nbclient->quarto-cli) (20.11.0)\n",
      "Requirement already satisfied: webcolors>=24.6.0 in /usr/local/lib/python3.10/site-packages (from jsonschema>=2.6->nbformat>=5.1->nbclient->quarto-cli) (24.11.1)\n",
      "Requirement already satisfied: jsonpointer>1.13 in /usr/local/lib/python3.10/site-packages (from jsonschema>=2.6->nbformat>=5.1->nbclient->quarto-cli) (3.0.0)\n",
      "Requirement already satisfied: cffi>=1.0.1 in /usr/local/lib/python3.10/site-packages (from argon2-cffi-bindings->argon2-cffi>=21.1->jupyter-server<3,>=2.4.0->jupyterlab->jupyter->quarto-cli) (1.17.1)\n",
      "Requirement already satisfied: pycparser in /usr/local/lib/python3.10/site-packages (from cffi>=1.0.1->argon2-cffi-bindings->argon2-cffi>=21.1->jupyter-server<3,>=2.4.0->jupyterlab->jupyter->quarto-cli) (2.22)\n",
      "Requirement already satisfied: arrow>=0.15.0 in /usr/local/lib/python3.10/site-packages (from isoduration->jsonschema>=2.6->nbformat>=5.1->nbclient->quarto-cli) (1.3.0)\n",
      "Requirement already satisfied: types-python-dateutil>=2.8.10 in /usr/local/lib/python3.10/site-packages (from arrow>=0.15.0->isoduration->jsonschema>=2.6->nbformat>=5.1->nbclient->quarto-cli) (2.9.0.20241206)\n",
      "Building wheels for collected packages: quarto-cli\n",
      "  Buildindone\n",
      "\u001b[?25h  Created wheel for quarto-cli: filename=quarto_cli-1.7.32-py3-none-any.whl size=133950600 sha256=7c1fde6a75d5b2973ec55e4c519cddf9eedb4ba55c45b9c6aa20d9b8d41f4dbb\n",
      "  Stored in directory: /root/.cache/pip/wheels/16/22/d4/50959a428e1126ef8e23f6314c998ea9d78f0ea2e2910e6409\n",
      "Successfully built quarto-cli\n",
      "Installing collected packages: quarto-cli\n",
      "Successfully installed quarto-cli-1.7.32\n",
      "\u001b[33mWARNING: Running pip as the 'root' user can result in broken permissions and conflicting behaviour with the system package manager. It is recommended to use a virtual environment instead: https://pip.pypa.io/warnings/venv\u001b[0m\u001b[33m\n",
      "\u001b[0m\n",
      "\u001b[1m[\u001b[0m\u001b[34;49mnotice\u001b[0m\u001b[1;39;49m]\u001b[0m\u001b[39;49m A new release of pip is available: \u001b[0m\u001b[31;49m23.0.1\u001b[0m\u001b[39;49m -> \u001b[0m\u001b[32;49m25.1.1\u001b[0m\n",
      "\u001b[1m[\u001b[0m\u001b[34;49mnotice\u001b[0m\u001b[1;39;49m]\u001b[0m\u001b[39;49m To update, run: \u001b[0m\u001b[32;49mpip install --upgrade pip\u001b[0m\n"
     ]
    }
   ],
   "source": [
    "! pip install quarto-cli"
   ]
  },
  {
   "cell_type": "markdown",
   "id": "d43bf1ee-0cfd-48a3-885a-1c3d288bdeaa",
   "metadata": {},
   "source": [
    "## Initialize quarto project (one time only)"
   ]
  },
  {
   "cell_type": "code",
   "execution_count": 2,
   "id": "7c8e814f-7283-4d43-8e9b-0e85ef184f43",
   "metadata": {},
   "outputs": [
    {
     "name": "stdout",
     "output_type": "stream",
     "text": [
      "/home/iceberg/notebooks/book\n"
     ]
    }
   ],
   "source": [
    "! pwd"
   ]
  },
  {
   "cell_type": "markdown",
   "id": "25ce9d02-19d1-48cc-aa75-db0f82a25df8",
   "metadata": {},
   "source": [
    "Run the following command via terminal:\n",
    "\n",
    "```bash\n",
    "quarto create project book data-engineering-for-beginners\n",
    "```"
   ]
  },
  {
   "cell_type": "markdown",
   "id": "43938de8-adca-4a20-9201-698e6734ec62",
   "metadata": {},
   "source": [
    "## Convert notebooks to qmd"
   ]
  },
  {
   "cell_type": "code",
   "execution_count": 25,
   "id": "97a4f98e-2291-48d0-82c0-249629bbd7b7",
   "metadata": {},
   "outputs": [
    {
     "name": "stderr",
     "output_type": "stream",
     "text": [
      "Converted to cte.qmd\n",
      "Converted to py_basics.qmd\n",
      "Converted to py_el.qmd\n",
      "Converted to py_transform.qmd\n",
      "Converted to python.qmd\n",
      "Converted to sql.qmd\n",
      "Converted to sql_basics.qmd\n",
      "Converted to windows.qmd\n"
     ]
    }
   ],
   "source": [
    "%%bash\n",
    "for i in *.ipynb; do [[ \"$i\" != \"automation.ipynb\" ]] && quarto convert \"$i\"; done"
   ]
  },
  {
   "cell_type": "markdown",
   "id": "355970bc-d3e7-4bd5-b1fb-fa8910dbf784",
   "metadata": {},
   "source": [
    "## Preview quarto book"
   ]
  },
  {
   "cell_type": "code",
   "execution_count": null,
   "id": "9e24de00-6eed-4425-8759-3e30cffe991d",
   "metadata": {
    "scrolled": true
   },
   "outputs": [],
   "source": [
    "! quarto preview . --port 4778 --host 0.0.0.0"
   ]
  },
  {
   "cell_type": "code",
   "execution_count": null,
   "id": "f89a9a08-8299-4130-b48a-591cd4920f5d",
   "metadata": {},
   "outputs": [],
   "source": []
  }
 ],
 "metadata": {
  "kernelspec": {
   "display_name": "Python 3 (ipykernel)",
   "language": "python",
   "name": "python3"
  },
  "language_info": {
   "codemirror_mode": {
    "name": "ipython",
    "version": 3
   },
   "file_extension": ".py",
   "mimetype": "text/x-python",
   "name": "python",
   "nbconvert_exporter": "python",
   "pygments_lexer": "ipython3",
   "version": "3.10.16"
  }
 },
 "nbformat": 4,
 "nbformat_minor": 5
}
