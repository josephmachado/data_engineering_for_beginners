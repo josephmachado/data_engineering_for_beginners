{
 "cells": [
  {
   "cell_type": "markdown",
   "id": "f7955f81-ebf2-40eb-9909-151e7f7d60a3",
   "metadata": {},
   "source": [
    "---\n",
    "title: \"Data warehouse modeling (Kimball) is based off of 2 types of tables: Fact and dimensions\"\n",
    "format:\n",
    "  html:\n",
    "    toc: true\n",
    "execute:\n",
    "    eval: false\n",
    "    output: true\n",
    "---"
   ]
  },
  {
   "cell_type": "markdown",
   "id": "52faa251-a979-44f4-a48c-e024130a4188",
   "metadata": {},
   "source": [
    "\n",
    "\n",
    "As we saw in the previous chapter, Kimball is by far the most commonly used, while companies don't always follow it to a T, facts and dimensions form the basis of most of the data warehouses in the wild.\n",
    "\n",
    "## Facts represents events that occured & dimensions the entities to which events occur to\n",
    "\n",
    "A data warehouse is a database that stores your company's historical data. The main types of tables you need to create to power analytics are:\n",
    "\n",
    "1. **` Dimension`**: Each row in a dimension table represents a business entity that is important to the business. For example, An car parts seller's data warehouse will have a `customer` dimension table, where each row will represent an individual customer. Other examples of dimension tables in a car parts seller's data warehouse would be `supplier` & `part` tables.\n",
    "\n",
    "2. **` Facts`**: Each row in a fact table represents a business process that occurred. E.g., In our data warehouse, each row in the `orders` fact table will represent an individual order, and each row in the `lineitem` fact table will represent an item sold as part of an order. Each fact row will have a unique identifier; in our case, it's `orderkey` for orders and a combination of `orderkey & linenumber` for lineitem.\n",
    "\n",
    "A fact table's **` grain (aka granularity, level)`** refers to what a row in a fact table represents. E.g., In our checkout process, we can have two fact tables, one for the order and another for the individual items in the order. The items table will have one row per item purchased, whereas the order table will have one row per order made.\n",
    "\n",
    "<!-- ![TPC-H data model](./images/lineitem_order_lvl.png){#id .class width=30px height=20px}-->"
   ]
  },
  {
   "cell_type": "code",
   "execution_count": 2,
   "id": "13b12d41-6b16-4b91-9c93-9fced38f0f82",
   "metadata": {},
   "outputs": [
    {
     "data": {
      "text/html": [
       "<table>\n",
       "    <thead>\n",
       "        <tr>\n",
       "        </tr>\n",
       "    </thead>\n",
       "    <tbody>\n",
       "    </tbody>\n",
       "</table>"
      ],
      "text/plain": [
       "++\n",
       "||\n",
       "++\n",
       "++"
      ]
     },
     "execution_count": 2,
     "metadata": {},
     "output_type": "execute_result"
    }
   ],
   "source": [
    "%%sql\n",
    "use prod.db"
   ]
  },
  {
   "cell_type": "code",
   "execution_count": 3,
   "id": "7b1083cd-09b1-4f4f-8c70-c879fa15e228",
   "metadata": {},
   "outputs": [
    {
     "name": "stderr",
     "output_type": "stream",
     "text": [
      "                                                                                "
     ]
    },
    {
     "data": {
      "text/html": [
       "<table>\n",
       "    <thead>\n",
       "        <tr>\n",
       "            <th>l_orderkey</th>\n",
       "            <th>totalprice</th>\n",
       "        </tr>\n",
       "    </thead>\n",
       "    <tbody>\n",
       "        <tr>\n",
       "            <td>1</td>\n",
       "            <td>194029.59</td>\n",
       "        </tr>\n",
       "    </tbody>\n",
       "</table>"
      ],
      "text/plain": [
       "+------------+------------+\n",
       "| l_orderkey | totalprice |\n",
       "+------------+------------+\n",
       "|          1 |  194029.59 |\n",
       "+------------+------------+"
      ]
     },
     "execution_count": 3,
     "metadata": {},
     "output_type": "execute_result"
    }
   ],
   "source": [
    "%%sql\n",
    "-- calculating the totalprice of an order (with orderkey = 1) from it's individual items\n",
    "SELECT\n",
    "    l_orderkey,\n",
    "    round( sum(l_extendedprice * (1 - l_discount) * (1 + l_tax)),\n",
    "        2\n",
    "    ) AS totalprice\n",
    "FROM\n",
    "    lineitem\n",
    "WHERE\n",
    "    l_orderkey = 1\n",
    "GROUP BY\n",
    "    l_orderkey;\n"
   ]
  },
  {
   "cell_type": "code",
   "execution_count": 4,
   "id": "1ce635b4-c2b2-4834-b9c0-81e072d5b61b",
   "metadata": {},
   "outputs": [
    {
     "data": {
      "text/html": [
       "<table>\n",
       "    <thead>\n",
       "        <tr>\n",
       "            <th>o_orderkey</th>\n",
       "            <th>o_totalprice</th>\n",
       "        </tr>\n",
       "    </thead>\n",
       "    <tbody>\n",
       "        <tr>\n",
       "            <td>1</td>\n",
       "            <td>194029.55</td>\n",
       "        </tr>\n",
       "    </tbody>\n",
       "</table>"
      ],
      "text/plain": [
       "+------------+--------------+\n",
       "| o_orderkey | o_totalprice |\n",
       "+------------+--------------+\n",
       "|          1 |    194029.55 |\n",
       "+------------+--------------+"
      ]
     },
     "execution_count": 4,
     "metadata": {},
     "output_type": "execute_result"
    }
   ],
   "source": [
    "%%sql\n",
    "-- The totalprice of an order (with orderkey = 1)\n",
    "SELECT\n",
    "    o_orderkey,\n",
    "    o_totalprice\n",
    "FROM\n",
    "    orders\n",
    "WHERE\n",
    "    o_orderkey = 1;"
   ]
  },
  {
   "cell_type": "markdown",
   "id": "45019abf-61e0-46cd-9d95-25b349567ee3",
   "metadata": {},
   "source": [
    "\n",
    "**Note:** If you notice the slight difference in the decimal digits, it's due to using a `double` datatype which is an inexact data type.\n",
    "\n",
    "We can see how the `lineitem` table can be \"rolled up\" to get the data in the `orders` table. But having just the `orders` table is not sufficient since the `lineitem` table will provide us with individual item details such as discount and quantity details.\n",
    "\n",
    "### Popular dimension types: Full Snapshot & SCD2 \n",
    "\n",
    "-  Full snapshot\n",
    "In this type of dimension, the entire dimension table is  re-loaded each run. As the dimension tables are much smaller than the fact table this is usually an acceptable tradeoff. Typically each run would create a new copy while retaining older copy for a certain time period (say 6 months).\n",
    "\n",
    "- SCD2 \n",
    "SCD2 stands for slowly changing dimension type 2. Any change to a column value will be tracked as a new row. \n",
    "\n",
    "If your customer makes an address change in SCD2 it will be created as a new table. SCD2 has 3 key columns that allow us to see historical changes \n",
    "\n",
    "1. valid_from\n",
    "2. valid_to \n",
    "3. is_current\n",
    "\n",
    "add: image showing snapshot dimension and SCD2 dimension model\n",
    "\n",
    "## One Big Table (OBT) is a fact table left joined with all its dimensions\n",
    "\n",
    "As the number of facts and dimensions grow you will notice that most of the queries that are run to get data for the end users use the same tables and the same joins.\n",
    "\n",
    "In this scenario the expensive reprocessing of data can be avoided by creating an OBT. In an OBT you left join all the dimensions into a fact table. This big table can then be used to aggregate to different grains as needed for end user reproting.\n",
    "\n",
    "Note that the OBT should have the same grain as the fact table that it is based on or have the lower grain if you have to join multiple fact tables.\n",
    "\n",
    "In our bike-part seller warehouse we can create an OBT by joining all the tables to the lineitem table \n",
    "\n",
    "```sql\n",
    "add: code\n",
    "```\n",
    "\n",
    "## Summary or pre-aggregated tables are stakeholder-team specific tables built for reporting\n",
    "\n",
    "Stakeholders often require data aggregated at various grains and similar metrics. Creating pre-aggregated or summary tables is creating these report for stakeholders so all they would have to do is select from the table without the need to recompute metrics. This has 2 benefits\n",
    "\n",
    "1. Same metric formula, as the data engineering will keep the metric definition in the code base, vs each stakeholder using a slightly different version and ending up with different numbers\n",
    "2. Avoid unnecessary recomputation as multiple stakeholders can now use the same table\n",
    "\n",
    "However the down side is that the data may not be as fresh as what a stakeholder would get if they just write a query.\n",
    "\n",
    "## Exercises\n",
    "\n",
    "1. What are the fact tables in our TPCH data model?\n",
    "2. What source tables in TPCH data model would you consider to create a customer dimension table?\n",
    "\n",
    "## Recommended reading\n",
    "\n",
    "1. https://www.startdataengineering.com/post/metrics_sot/\n",
    "2. https://www.startdataengineering.com/post/n-steps-avoid-messy-dw/\n",
    "3. https://www.startdataengineering.com/post/data-lake-warehouse-diff/\n",
    "4. https://www.startdataengineering.com/post/what-is-a-data-warehouse/"
   ]
  }
 ],
 "metadata": {
  "kernelspec": {
   "display_name": "Python 3 (ipykernel)",
   "language": "python",
   "name": "python3"
  },
  "language_info": {
   "codemirror_mode": {
    "name": "ipython",
    "version": 3
   },
   "file_extension": ".py",
   "mimetype": "text/x-python",
   "name": "python",
   "nbconvert_exporter": "python",
   "pygments_lexer": "ipython3",
   "version": "3.10.16"
  }
 },
 "nbformat": 4,
 "nbformat_minor": 5
}
