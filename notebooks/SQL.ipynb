{
 "cells": [
  {
   "cell_type": "markdown",
   "id": "930b448f-0902-4ace-a9ac-cac23cf046dc",
   "metadata": {},
   "source": [
    "---\n",
    "title: \"SQL\"\n",
    "format:\n",
    "  html:\n",
    "    toc: true\n",
    "execute:\n",
    "    eval: false\n",
    "    output: true\n",
    "---"
   ]
  },
  {
   "cell_type": "markdown",
   "id": "25e2a8ea-d988-47d5-b3fc-229f2ca532a8",
   "metadata": {},
   "source": [
    "# Read data, Combine tables, & aggregate numbers to understand business performance\n",
    "\n",
    "In this chapter, we will go over SQL basics. As you follow along with the jupyter notebook, make sure to add the `%%sql` in the cell block to let jupyter notebook run this as spark sql.\n",
    "\n",
    "## A Spark catalog can have multiple schemas, & schemas can have multiple tables\n",
    "\n",
    "Typically database servers can have multiple databases; each database can have multiple schemas. Each schema can have multiple tables, and each table can have multiple columns.\n",
    "\n",
    "**Note:** We use Trino, which has `catalogs` that allow it to connect with the different underlying systems. (e.g., Postgres, Redis, Hive, etc.)\n",
    "\n",
    "In our lab, we use Trino, and we can check the available catalogs, their schemas, the tables in a schema, & the columns in a table, as shown below.\n",
    "\n"
   ]
  },
  {
   "cell_type": "markdown",
   "id": "cfd573d9-955a-4199-9b69-ccf1c248fb40",
   "metadata": {},
   "source": [
    "# Setup"
   ]
  },
  {
   "cell_type": "code",
   "execution_count": null,
   "id": "7e84388f-a23d-4138-81bf-2a6bc11347ff",
   "metadata": {
    "scrolled": true
   },
   "outputs": [],
   "source": [
    "%%capture\n",
    "%%bash\n",
    "python ./generate_data.py\n",
    "python ./run_ddl.py"
   ]
  },
  {
   "cell_type": "code",
   "execution_count": null,
   "id": "643fba2a-1b34-46bc-945d-1cbfb089d2eb",
   "metadata": {},
   "outputs": [],
   "source": [
    "%%sql --show\n",
    "use prod.db"
   ]
  },
  {
   "cell_type": "markdown",
   "id": "af4e5679-da1b-4f79-a9c3-e6b906772d8c",
   "metadata": {},
   "source": [
    "# Chapter 1\n",
    "\n",
    "Some text"
   ]
  },
  {
   "cell_type": "code",
   "execution_count": 1,
   "id": "3b7467c4-f45d-47f5-bf56-5342ba5bb756",
   "metadata": {},
   "outputs": [
    {
     "name": "stderr",
     "output_type": "stream",
     "text": [
      "25/07/16 12:15:25 WARN SparkSession: Using an existing Spark session; only runtime SQL configurations will take effect.\n"
     ]
    },
    {
     "data": {
      "text/html": [
       "<table>\n",
       "    <thead>\n",
       "        <tr>\n",
       "            <th>catalog</th>\n",
       "        </tr>\n",
       "    </thead>\n",
       "    <tbody>\n",
       "        <tr>\n",
       "            <td>demo</td>\n",
       "        </tr>\n",
       "        <tr>\n",
       "            <td>spark_catalog</td>\n",
       "        </tr>\n",
       "    </tbody>\n",
       "</table>"
      ],
      "text/plain": [
       "+---------------+\n",
       "|       catalog |\n",
       "+---------------+\n",
       "|          demo |\n",
       "| spark_catalog |\n",
       "+---------------+"
      ]
     },
     "execution_count": 1,
     "metadata": {},
     "output_type": "execute_result"
    }
   ],
   "source": [
    "%%sql\n",
    "show catalogs;"
   ]
  },
  {
   "cell_type": "code",
   "execution_count": null,
   "id": "7a8af814-6a6b-4c35-a242-8d8bc730a99d",
   "metadata": {},
   "outputs": [],
   "source": [
    "%%sql\n",
    "show schemas IN demo;"
   ]
  },
  {
   "cell_type": "code",
   "execution_count": null,
   "id": "9a2bbc64-2d6d-4e1a-a8dc-e0b5043696c7",
   "metadata": {},
   "outputs": [],
   "source": [
    "%%sql\n",
    "show schemas IN prod;"
   ]
  },
  {
   "cell_type": "code",
   "execution_count": null,
   "id": "7e65225a-00d3-494f-b1ae-7b364e96a782",
   "metadata": {},
   "outputs": [],
   "source": [
    "%%sql\n",
    "show tables IN prod.db"
   ]
  },
  {
   "cell_type": "code",
   "execution_count": null,
   "id": "b6614ae1-4abf-4596-bcc0-062a5592c4c6",
   "metadata": {
    "scrolled": true
   },
   "outputs": [],
   "source": [
    "%%sql\n",
    "DESCRIBE lineitem"
   ]
  },
  {
   "cell_type": "code",
   "execution_count": null,
   "id": "d623db5b-1f1c-4d2f-a6f6-59b0c57283b6",
   "metadata": {
    "scrolled": true
   },
   "outputs": [],
   "source": [
    "%%sql\n",
    "DESCRIBE extended lineitem"
   ]
  },
  {
   "cell_type": "code",
   "execution_count": 3,
   "id": "53d66dac-64d0-471a-b52e-7661fc9d4aa0",
   "metadata": {},
   "outputs": [
    {
     "data": {
      "text/html": [
       "<table>\n",
       "    <thead>\n",
       "        <tr>\n",
       "        </tr>\n",
       "    </thead>\n",
       "    <tbody>\n",
       "    </tbody>\n",
       "</table>"
      ],
      "text/plain": [
       "++\n",
       "||\n",
       "++\n",
       "++"
      ]
     },
     "execution_count": 3,
     "metadata": {},
     "output_type": "execute_result"
    }
   ],
   "source": [
    "%%sql \n",
    "use prod.db"
   ]
  },
  {
   "cell_type": "code",
   "execution_count": 4,
   "id": "af4bebe7-1ce7-4821-99d5-8bf942ef57da",
   "metadata": {
    "scrolled": true
   },
   "outputs": [
    {
     "name": "stderr",
     "output_type": "stream",
     "text": [
      "                                                                                "
     ]
    },
    {
     "data": {
      "text/html": [
       "<table>\n",
       "    <thead>\n",
       "        <tr>\n",
       "            <th>o_orderkey</th>\n",
       "            <th>o_custkey</th>\n",
       "            <th>o_orderstatus</th>\n",
       "            <th>o_totalprice</th>\n",
       "            <th>o_orderdate</th>\n",
       "            <th>o_orderpriority</th>\n",
       "            <th>o_clerk</th>\n",
       "            <th>o_shippriority</th>\n",
       "            <th>o_comment</th>\n",
       "        </tr>\n",
       "    </thead>\n",
       "    <tbody>\n",
       "        <tr>\n",
       "            <td>1</td>\n",
       "            <td>3691</td>\n",
       "            <td>O</td>\n",
       "            <td>194029.55</td>\n",
       "            <td>1996-01-02</td>\n",
       "            <td>5-LOW</td>\n",
       "            <td>Clerk#000000951</td>\n",
       "            <td>0</td>\n",
       "            <td>ly express platelets. deposits acc</td>\n",
       "        </tr>\n",
       "        <tr>\n",
       "            <td>2</td>\n",
       "            <td>7801</td>\n",
       "            <td>O</td>\n",
       "            <td>60951.63</td>\n",
       "            <td>1996-12-01</td>\n",
       "            <td>1-URGENT</td>\n",
       "            <td>Clerk#000000880</td>\n",
       "            <td>0</td>\n",
       "            <td>ve the furiously fluffy dependencies. carefully regular </td>\n",
       "        </tr>\n",
       "        <tr>\n",
       "            <td>3</td>\n",
       "            <td>12332</td>\n",
       "            <td>F</td>\n",
       "            <td>247296.05</td>\n",
       "            <td>1993-10-14</td>\n",
       "            <td>5-LOW</td>\n",
       "            <td>Clerk#000000955</td>\n",
       "            <td>0</td>\n",
       "            <td> after the asymptotes. instructions cajole after the foxes. carefully unu</td>\n",
       "        </tr>\n",
       "        <tr>\n",
       "            <td>4</td>\n",
       "            <td>13678</td>\n",
       "            <td>O</td>\n",
       "            <td>53829.87</td>\n",
       "            <td>1995-10-11</td>\n",
       "            <td>5-LOW</td>\n",
       "            <td>Clerk#000000124</td>\n",
       "            <td>0</td>\n",
       "            <td>st the furiously bold pinto beans. furiously pending theodolites cajol</td>\n",
       "        </tr>\n",
       "    </tbody>\n",
       "</table>"
      ],
      "text/plain": [
       "+------------+-----------+---------------+--------------+-------------+-----------------+-----------------+----------------+---------------------------------------------------------------------------+\n",
       "| o_orderkey | o_custkey | o_orderstatus | o_totalprice | o_orderdate | o_orderpriority |         o_clerk | o_shippriority |                                                                 o_comment |\n",
       "+------------+-----------+---------------+--------------+-------------+-----------------+-----------------+----------------+---------------------------------------------------------------------------+\n",
       "|          1 |      3691 |             O |    194029.55 |  1996-01-02 |           5-LOW | Clerk#000000951 |              0 |                                        ly express platelets. deposits acc |\n",
       "|          2 |      7801 |             O |     60951.63 |  1996-12-01 |        1-URGENT | Clerk#000000880 |              0 |                  ve the furiously fluffy dependencies. carefully regular  |\n",
       "|          3 |     12332 |             F |    247296.05 |  1993-10-14 |           5-LOW | Clerk#000000955 |              0 |  after the asymptotes. instructions cajole after the foxes. carefully unu |\n",
       "|          4 |     13678 |             O |     53829.87 |  1995-10-11 |           5-LOW | Clerk#000000124 |              0 |    st the furiously bold pinto beans. furiously pending theodolites cajol |\n",
       "+------------+-----------+---------------+--------------+-------------+-----------------+-----------------+----------------+---------------------------------------------------------------------------+"
      ]
     },
     "execution_count": 4,
     "metadata": {},
     "output_type": "execute_result"
    }
   ],
   "source": [
    "%%sql\n",
    "SELECT\n",
    "  *\n",
    "FROM\n",
    "  orders\n",
    "LIMIT\n",
    "  4"
   ]
  },
  {
   "cell_type": "code",
   "execution_count": null,
   "id": "8189d371-44bd-4e77-85ef-90f0dcae42b7",
   "metadata": {},
   "outputs": [],
   "source": [
    "%%sql\n",
    "SELECT\n",
    "  o_orderkey,\n",
    "  o_totalprice\n",
    "FROM\n",
    "  orders\n",
    "LIMIT\n",
    "  4"
   ]
  },
  {
   "cell_type": "code",
   "execution_count": null,
   "id": "4aea7525-f848-4752-adf9-a73af2c9a4bf",
   "metadata": {},
   "outputs": [],
   "source": [
    "%%sql\n",
    "SELECT\n",
    "  *\n",
    "FROM\n",
    "  customer\n",
    "LIMIT\n",
    "  1;"
   ]
  },
  {
   "cell_type": "code",
   "execution_count": null,
   "id": "484ae477-6661-4fb0-b6fc-beef821d8a38",
   "metadata": {},
   "outputs": [],
   "source": [
    "%%sql\n",
    "-- use * to specify all columns\n",
    "SELECT\n",
    "  *\n",
    "FROM\n",
    "  orders\n",
    "LIMIT\n",
    "  5;"
   ]
  },
  {
   "cell_type": "code",
   "execution_count": null,
   "id": "3e241b6c-d53a-4a4f-adeb-bbca882cc53a",
   "metadata": {},
   "outputs": [],
   "source": [
    "%%sql\n",
    "-- use * to specify all columns\n",
    "SELECT\n",
    "  *\n",
    "FROM\n",
    "  orders\n",
    "LIMIT\n",
    "  5;"
   ]
  },
  {
   "cell_type": "code",
   "execution_count": null,
   "id": "c31f445c-c35b-419a-9fdc-bfd79591b2c7",
   "metadata": {},
   "outputs": [],
   "source": [
    "%%sql\n",
    "-- use column c_names only to read data from those columns\n",
    "SELECT\n",
    "  o_orderkey,\n",
    "  o_totalprice\n",
    "FROM\n",
    "  orders\n",
    "LIMIT\n",
    "  5;"
   ]
  },
  {
   "cell_type": "code",
   "execution_count": null,
   "id": "9189648c-0a3c-4c7d-ab1b-a2ed7a20608a",
   "metadata": {},
   "outputs": [],
   "source": [
    "%%sql\n",
    "-- all customer rows that have c_nationkey = 20\n",
    "SELECT\n",
    "  *\n",
    "FROM\n",
    "  customer\n",
    "WHERE\n",
    "  c_nationkey = 20\n",
    "LIMIT\n",
    "  10;"
   ]
  },
  {
   "cell_type": "code",
   "execution_count": null,
   "id": "a6e4e206-3546-4def-9cc2-bea977a2c039",
   "metadata": {},
   "outputs": [],
   "source": [
    "%%sql\n",
    "-- all customer rows that have c_nationkey = 20 and c_acctbal > 1000\n",
    "SELECT\n",
    "  *\n",
    "FROM\n",
    "  customer\n",
    "WHERE\n",
    "  c_nationkey = 20\n",
    "  AND c_acctbal > 1000\n",
    "LIMIT\n",
    "  10;"
   ]
  },
  {
   "cell_type": "code",
   "execution_count": null,
   "id": "963f0997-dfcc-4d4b-be92-6dd3f92c626f",
   "metadata": {},
   "outputs": [],
   "source": [
    "%%sql\n",
    "-- all customer rows that have c_nationkey = 20 or c_acctbal > 1000\n",
    "SELECT\n",
    "  *\n",
    "FROM\n",
    "  customer\n",
    "WHERE\n",
    "  c_nationkey = 20\n",
    "  OR c_acctbal > 1000\n",
    "LIMIT\n",
    "  10;"
   ]
  },
  {
   "cell_type": "code",
   "execution_count": null,
   "id": "a36e214e-4f57-44c0-88c9-21981c5d534d",
   "metadata": {},
   "outputs": [],
   "source": [
    "%%sql\n",
    "-- all customer rows that have (c_nationkey = 20 and c_acctbal > 1000) or rows that have c_nationkey = 11\n",
    "SELECT\n",
    "  *\n",
    "FROM\n",
    "  customer\n",
    "WHERE\n",
    "  (\n",
    "    c_nationkey = 20\n",
    "    AND c_acctbal > 1000\n",
    "  )\n",
    "  OR c_nationkey = 11\n",
    "LIMIT\n",
    "  10;"
   ]
  },
  {
   "cell_type": "code",
   "execution_count": null,
   "id": "5a773dc2-3e76-4f11-ae35-7497a4152f20",
   "metadata": {},
   "outputs": [],
   "source": [
    "%%sql\n",
    "-- all customer rows where the c_name has a 381 in it\n",
    "SELECT\n",
    "  *\n",
    "FROM\n",
    "  customer\n",
    "WHERE\n",
    "  c_name LIKE '%381%';"
   ]
  },
  {
   "cell_type": "code",
   "execution_count": null,
   "id": "01360d40-99f5-499b-afaf-ba084cf8e5a5",
   "metadata": {},
   "outputs": [],
   "source": [
    "%%sql\n",
    "-- all customer rows where the c_name ends with a 381\n",
    "SELECT\n",
    "  *\n",
    "FROM\n",
    "  customer\n",
    "WHERE\n",
    "  c_name LIKE '%381';"
   ]
  },
  {
   "cell_type": "code",
   "execution_count": null,
   "id": "cfd372ca-2e0f-4812-aad3-ba526cdae78b",
   "metadata": {},
   "outputs": [],
   "source": [
    "%%sql\n",
    "-- all customer rows where the c_name starts with a 381\n",
    "SELECT\n",
    "  *\n",
    "FROM\n",
    "  customer\n",
    "WHERE\n",
    "  c_name LIKE '381%';"
   ]
  },
  {
   "cell_type": "code",
   "execution_count": null,
   "id": "acd01bf2-9e6b-420d-8332-ed74be94d787",
   "metadata": {},
   "outputs": [],
   "source": [
    "%%sql\n",
    "-- all customer rows where the c_name has a combination of any character and 9 and 1\n",
    "SELECT\n",
    "  *\n",
    "FROM\n",
    "  customer\n",
    "WHERE\n",
    "  c_name LIKE '%_91%';"
   ]
  },
  {
   "cell_type": "code",
   "execution_count": null,
   "id": "925d4547-3d72-4bae-b2b5-16340a0c54b1",
   "metadata": {},
   "outputs": [],
   "source": [
    "%%sql\n",
    "-- all customer rows which have c_nationkey = 10 or c_nationkey = 20\n",
    "SELECT\n",
    "  *\n",
    "FROM\n",
    "  customer\n",
    "WHERE\n",
    "  c_nationkey IN (10, 20);"
   ]
  },
  {
   "cell_type": "code",
   "execution_count": null,
   "id": "ee147c9b-dedf-454e-8977-8952a3b6a501",
   "metadata": {},
   "outputs": [],
   "source": [
    "%%sql\n",
    "-- all customer rows which have do not have c_nationkey as 10 or 20\n",
    "SELECT\n",
    "  *\n",
    "FROM\n",
    "  customer\n",
    "WHERE\n",
    "  c_nationkey NOT IN (10, 20);"
   ]
  },
  {
   "cell_type": "code",
   "execution_count": null,
   "id": "ec15d54b-105b-4e5b-a1d7-934c016192da",
   "metadata": {},
   "outputs": [],
   "source": [
    "%%sql\n",
    "SELECT\n",
    "  COUNT(*)\n",
    "FROM\n",
    "  customer;"
   ]
  },
  {
   "cell_type": "code",
   "execution_count": null,
   "id": "c91f0b4f-f911-41a4-a2f1-c60fad7cfe90",
   "metadata": {},
   "outputs": [],
   "source": [
    "%%sql\n",
    "SELECT\n",
    "  COUNT(*)\n",
    "FROM\n",
    "  lineitem;"
   ]
  },
  {
   "cell_type": "code",
   "execution_count": null,
   "id": "2b17a91d-ae7f-421b-afe5-76e3687766f4",
   "metadata": {},
   "outputs": [],
   "source": [
    "%%sql\n",
    "-- Will show the first ten customer records with the lowest custkey\n",
    "-- rows are ordered in ASC order by default\n",
    "SELECT\n",
    "  *\n",
    "FROM\n",
    "  orders\n",
    "ORDER BY\n",
    "  o_custkey\n",
    "LIMIT\n",
    "  10;"
   ]
  },
  {
   "cell_type": "code",
   "execution_count": null,
   "id": "99cc593e-8224-429f-953a-b52cf2daf36b",
   "metadata": {},
   "outputs": [],
   "source": [
    "%%sql\n",
    "-- Will show the first ten customer's records with the highest custkey\n",
    "SELECT\n",
    "  *\n",
    "FROM\n",
    "  orders\n",
    "ORDER BY\n",
    "  o_custkey DESC\n",
    "LIMIT\n",
    "  10;"
   ]
  },
  {
   "cell_type": "code",
   "execution_count": null,
   "id": "ab14be76-a904-47e1-81a7-89846b65ccd0",
   "metadata": {},
   "outputs": [],
   "source": [
    "%%sql\n",
    "SELECT\n",
    "  o.o_orderkey,\n",
    "  l.l_orderkey\n",
    "FROM\n",
    "  orders o\n",
    "  JOIN lineitem l ON o.o_orderkey = l.l_orderkey\n",
    "  AND o.o_orderdate BETWEEN l.l_shipdate - INTERVAL '5' DAY AND l.l_shipdate  + INTERVAL '5' DAY\n",
    "LIMIT\n",
    "  100;"
   ]
  },
  {
   "cell_type": "code",
   "execution_count": null,
   "id": "8e392f04-6d0d-4501-ad41-cfc2976e6e74",
   "metadata": {},
   "outputs": [],
   "source": [
    "%%sql\n",
    "SELECT\n",
    "  COUNT(o.o_orderkey) AS order_rows_count,\n",
    "  COUNT(l.l_orderkey) AS lineitem_rows_count\n",
    "FROM\n",
    "  orders o\n",
    "  JOIN lineitem l ON o.o_orderkey = l.l_orderkey\n",
    "  AND o.o_orderdate BETWEEN l.l_shipdate - INTERVAL '5' DAY AND l.l_shipdate  + INTERVAL '5' DAY;"
   ]
  },
  {
   "cell_type": "code",
   "execution_count": null,
   "id": "bfcd9a64-47cc-4e14-b9f1-4e1837ac3373",
   "metadata": {},
   "outputs": [],
   "source": [
    "%%sql\n",
    "SELECT\n",
    "  o.o_orderkey,\n",
    "  l.l_orderkey\n",
    "FROM\n",
    "  orders o\n",
    "  LEFT JOIN lineitem l ON o.o_orderkey = l.l_orderkey\n",
    "  AND o.o_orderdate BETWEEN l.l_shipdate - INTERVAL '5' DAY AND l.l_shipdate  + INTERVAL '5' DAY\n",
    "LIMIT\n",
    "  100;"
   ]
  },
  {
   "cell_type": "code",
   "execution_count": null,
   "id": "a4fd2506-387c-4831-8270-def4376bc225",
   "metadata": {},
   "outputs": [],
   "source": [
    "%%sql\n",
    "SELECT\n",
    "  COUNT(o.o_orderkey) AS order_rows_count,\n",
    "  COUNT(l.l_orderkey) AS lineitem_rows_count\n",
    "FROM\n",
    "  orders o\n",
    "  LEFT JOIN lineitem l ON o.o_orderkey = l.l_orderkey\n",
    "  AND o.o_orderdate BETWEEN l.l_shipdate - INTERVAL '5' DAY AND l.l_shipdate  + INTERVAL '5' DAY;"
   ]
  },
  {
   "cell_type": "code",
   "execution_count": null,
   "id": "6561e522-37c1-4aa5-b885-27e847128c44",
   "metadata": {},
   "outputs": [],
   "source": [
    "%%sql\n",
    "SELECT\n",
    "  o.o_orderkey,\n",
    "  l.l_orderkey\n",
    "FROM\n",
    "  orders o\n",
    "  RIGHT JOIN lineitem l ON o.o_orderkey = l.l_orderkey\n",
    "  AND o.o_orderdate BETWEEN l.l_shipdate - INTERVAL '5' DAY AND l.l_shipdate  + INTERVAL '5' DAY\n",
    "LIMIT\n",
    "  100;"
   ]
  },
  {
   "cell_type": "code",
   "execution_count": null,
   "id": "50ff4268-67e2-465e-9ce5-3f3a790bd131",
   "metadata": {},
   "outputs": [],
   "source": [
    "%%sql\n",
    "SELECT\n",
    "  COUNT(o.o_orderkey) AS order_rows_count,\n",
    "  COUNT(l.l_orderkey) AS lineitem_rows_count\n",
    "FROM\n",
    "  orders o\n",
    "  RIGHT JOIN lineitem l ON o.o_orderkey = l.l_orderkey\n",
    "  AND o.o_orderdate BETWEEN l.l_shipdate - INTERVAL '5' DAY AND l.l_shipdate  + INTERVAL '5' DAY;"
   ]
  },
  {
   "cell_type": "code",
   "execution_count": null,
   "id": "185cc269-e03e-4375-a0f8-d2f530463797",
   "metadata": {},
   "outputs": [],
   "source": [
    "%%sql\n",
    "SELECT\n",
    "  o.o_orderkey,\n",
    "  l.l_orderkey\n",
    "FROM\n",
    "  orders o\n",
    "  FULL OUTER JOIN lineitem l ON o.o_orderkey = l.l_orderkey\n",
    "  AND o.o_orderdate BETWEEN l.l_shipdate - INTERVAL '5' DAY AND l.l_shipdate  + INTERVAL '5' DAY\n",
    "LIMIT\n",
    "  100;"
   ]
  },
  {
   "cell_type": "code",
   "execution_count": null,
   "id": "54f6ac44-5756-4d61-aad0-0e8780146ff0",
   "metadata": {},
   "outputs": [],
   "source": [
    "%%sql\n",
    "SELECT\n",
    "  COUNT(o.o_orderkey) AS order_rows_count,\n",
    "  COUNT(l.l_orderkey) AS lineitem_rows_count\n",
    "FROM\n",
    "  orders o\n",
    "  FULL OUTER JOIN lineitem l ON o.o_orderkey = l.l_orderkey\n",
    "  AND o.o_orderdate BETWEEN l.l_shipdate - INTERVAL '5' DAY AND l.l_shipdate  + INTERVAL '5' DAY;"
   ]
  },
  {
   "cell_type": "code",
   "execution_count": null,
   "id": "9917a332-6647-45af-8d56-3009ba8ab55c",
   "metadata": {
    "scrolled": true
   },
   "outputs": [],
   "source": [
    "%%sql\n",
    "SELECT\n",
    "  n.n_name AS nation_c_name,\n",
    "  r.r_name AS region_c_name\n",
    "FROM\n",
    "  nation n\n",
    "  CROSS JOIN region r;"
   ]
  },
  {
   "cell_type": "code",
   "execution_count": null,
   "id": "df609eb8-814d-42da-98c8-467c0856488c",
   "metadata": {},
   "outputs": [],
   "source": [
    "%%sql\n",
    "SELECT\n",
    "  o_orderpriority,\n",
    "  COUNT(*) AS num_orders\n",
    "FROM\n",
    "  orders\n",
    "GROUP BY\n",
    "  o_orderpriority;"
   ]
  },
  {
   "cell_type": "code",
   "execution_count": null,
   "id": "d3060e18-0e16-4de1-9ac1-1e8520ddcc5b",
   "metadata": {
    "scrolled": true
   },
   "outputs": [],
   "source": [
    "%%sql\n",
    "SELECT\n",
    "  n.n_name AS nation_c_name,\n",
    "  s.quantity AS supplied_items_quantity,\n",
    "  c.quantity AS purchased_items_quantity\n",
    "FROM\n",
    "  nation n\n",
    "  LEFT JOIN (\n",
    "    SELECT\n",
    "      n.n_nationkey,\n",
    "      SUM(l.l_quantity) AS quantity\n",
    "    FROM\n",
    "      lineitem l\n",
    "      JOIN supplier s ON l.l_suppkey = s.s_suppkey\n",
    "      JOIN nation n ON s.s_nationkey = n.n_nationkey\n",
    "    GROUP BY\n",
    "      n.n_nationkey\n",
    "  ) s ON n.n_nationkey = s.n_nationkey\n",
    "  LEFT JOIN (\n",
    "    SELECT\n",
    "      n.n_nationkey,\n",
    "      SUM(l.l_quantity) AS quantity\n",
    "    FROM\n",
    "      lineitem l\n",
    "      JOIN orders o ON l.l_orderkey = o.o_orderkey\n",
    "      JOIN customer c ON o.o_custkey = c.c_custkey\n",
    "      JOIN nation n ON c.c_nationkey = n.n_nationkey\n",
    "    GROUP BY\n",
    "      n.n_nationkey\n",
    "  ) c ON n.n_nationkey = c.n_nationkey;"
   ]
  },
  {
   "cell_type": "code",
   "execution_count": null,
   "id": "64b31572-099e-4249-bd6f-db085967ef35",
   "metadata": {
    "scrolled": true
   },
   "outputs": [],
   "source": [
    "%%sql\n",
    "SELECT\n",
    "    o_orderkey,\n",
    "    o_totalprice,\n",
    "    CASE\n",
    "        WHEN o_totalprice > 100000 THEN 'high'\n",
    "        WHEN o_totalprice BETWEEN 25000\n",
    "        AND 100000 THEN 'medium'\n",
    "        ELSE 'low'\n",
    "    END AS order_price_bucket\n",
    "FROM\n",
    "    orders;"
   ]
  },
  {
   "cell_type": "code",
   "execution_count": null,
   "id": "d9e77d27-190e-4770-9ab2-67c0e5545e18",
   "metadata": {},
   "outputs": [],
   "source": []
  },
  {
   "cell_type": "markdown",
   "id": "04e192a2-43a9-4dd8-b519-7bec6437566f",
   "metadata": {},
   "source": [
    "# Chapter 2"
   ]
  },
  {
   "cell_type": "raw",
   "id": "870b949f-fd1f-4594-9698-094b6ffd63e5",
   "metadata": {},
   "source": [
    "%%sql\n",
    "-- CTE definition\n",
    "WITH\n",
    "  supplier_nation_metrics AS ( -- CTE 1 defined using WITH keyword\n",
    "    SELECT\n",
    "      n.n_nationkey,\n",
    "      SUM(l.l_QUANTITY) AS num_supplied_parts\n",
    "    FROM\n",
    "      lineitem l\n",
    "      JOIN supplier s ON l.l_suppkey = s.s_suppkey\n",
    "      JOIN nation n ON s.s_nationkey = n.n_nationkey\n",
    "    GROUP BY\n",
    "      n.n_nationkey\n",
    "  ),\n",
    "  buyer_nation_metrics AS ( -- CTE 2 defined just as a name\n",
    "    SELECT\n",
    "      n.n_nationkey,\n",
    "      SUM(l.l_QUANTITY) AS num_purchased_parts\n",
    "    FROM\n",
    "      lineitem l\n",
    "      JOIN orders o ON l.l_orderkey = o.o_orderkey\n",
    "      JOIN customer c ON o.o_custkey = c.c_custkey\n",
    "      JOIN nation n ON c.c_nationkey = n.n_nationkey\n",
    "    GROUP BY\n",
    "      n.n_nationkey\n",
    "  )\n",
    "SELECT -- The final select will not have a comma before it\n",
    "  n.n_name AS nation_name,\n",
    "  s.num_supplied_parts,\n",
    "  b.num_purchased_parts\n",
    "FROM\n",
    "  nation n\n",
    "  LEFT JOIN supplier_nation_metrics s ON n.n_nationkey = s.n_nationkey\n",
    "  LEFT JOIN buyer_nation_metrics b ON n.n_nationkey = b.n_nationkey\n",
    "LIMIT\n",
    "  10;"
   ]
  },
  {
   "cell_type": "code",
   "execution_count": null,
   "id": "0442b79c-6403-4233-93a4-2d3a8091950c",
   "metadata": {
    "scrolled": true
   },
   "outputs": [],
   "source": [
    "%%sql\n",
    "WITH\n",
    "  lineitem_agg AS (\n",
    "    SELECT\n",
    "      l_orderkey,\n",
    "      SUM(l_extendedprice) AS total_price_without_discount\n",
    "    FROM\n",
    "      lineitem\n",
    "    GROUP BY\n",
    "      l_orderkey\n",
    "  )\n",
    "SELECT\n",
    "  o.o_orderkey,\n",
    "  o.o_totalprice,\n",
    "  l.total_price_without_discount - o.o_totalprice AS amount_lost_to_discount\n",
    "FROM\n",
    "  orders o\n",
    "  JOIN lineitem_agg l ON o.o_orderkey = l.l_orderkey\n",
    "ORDER BY\n",
    "  o.o_orderkey;"
   ]
  },
  {
   "cell_type": "markdown",
   "id": "6de29aeb-4ff6-4fff-bf52-5be6892d9e64",
   "metadata": {},
   "source": [
    "**Casestudy:**\n",
    "  \n",
    "Read the query below and answer the question\n",
    "\n",
    "```sql\n",
    "%%sql\n",
    "with orders as (\n",
    "select\n",
    "        order_id,\n",
    "        customer_id,\n",
    "        order_status,\n",
    "        order_purchase_timestamp::TIMESTAMP AS order_purchase_timestamp,\n",
    "        order_approved_at::TIMESTAMP AS order_approved_at,\n",
    "        order_delivered_carrier_date::TIMESTAMP AS order_delivered_carrier_date,\n",
    "        order_delivered_customer_date::TIMESTAMP AS order_delivered_customer_date,\n",
    "        order_estimated_delivery_date::TIMESTAMP AS order_estimated_delivery_date\n",
    "    from raw_layer.orders\n",
    "    ),\n",
    " stg_customers as (\n",
    "    select\n",
    "        customer_id,\n",
    "        zipcode,\n",
    "        city,\n",
    "        state_code,\n",
    "        datetime_created::TIMESTAMP as datetime_created,\n",
    "        datetime_updated::TIMESTAMP as datetime_updated,\n",
    "        dbt_valid_from,\n",
    "        dbt_valid_to\n",
    "    from customer_snapshot\n",
    "),\n",
    "state as (\n",
    "select\n",
    "        state_id::INT as state_id,\n",
    "        state_code::VARCHAR(2) as state_code,\n",
    "        state_name::VARCHAR(30) as state_name\n",
    "    from raw_layer.state\n",
    "    ),\n",
    "dim_customers as (\n",
    "select\n",
    "    c.customer_id,\n",
    "    c.zipcode,\n",
    "    c.city,\n",
    "    c.state_code,\n",
    "    s.state_name,\n",
    "    c.datetime_created,\n",
    "    c.datetime_updated,\n",
    "    c.dbt_valid_from::TIMESTAMP as valid_from,\n",
    "    case\n",
    "        when c.dbt_valid_to is NULL then '9999-12-31'::TIMESTAMP\n",
    "        else c.dbt_valid_to::TIMESTAMP\n",
    "    end as valid_to\n",
    "from stg_customers as c\n",
    "inner join state as s on c.state_code = s.state_code\n",
    ")\n",
    "select\n",
    "    o.order_id,\n",
    "    o.customer_id,\n",
    "    o.order_status,\n",
    "    o.order_purchase_timestamp,\n",
    "    o.order_approved_at,\n",
    "    o.order_delivered_carrier_date,\n",
    "    o.order_delivered_customer_date,\n",
    "    o.order_estimated_delivery_date,\n",
    "    c.zipcode as customer_zipcode,\n",
    "    c.city as customer_city,\n",
    "    c.state_code as customer_state_code,\n",
    "    c.state_name as customer_state_name\n",
    "from orders as o\n",
    "inner join dim_customers as c on\n",
    "    o.customer_id = c.customer_id\n",
    "    and o.order_purchase_timestamp >= c.valid_from\n",
    "    and o.order_purchase_timestamp <= c.valid_to;\n",
    "```"
   ]
  },
  {
   "cell_type": "markdown",
   "id": "153c86be-d0cf-4190-9225-c1ef1baf0755",
   "metadata": {},
   "source": [
    "[Exercise]\n",
    "\n",
    "**Time limit during live workshop: 10 min** \n",
    "\n",
    "**Scenario**: Assume you are building tables for your data team and creating this CTE.\n",
    "    \n",
    "**Question**: From a team-wide table reusability perspective, what do you think is wrong with the above query?\n",
    "\n",
    "**Question**: How would you change this Code so that your colleagues can reuse your work?\n",
    "\n",
    "\n",
    "\n",
    "The CTEs created cannot be reused by team members.\n",
    "\n",
    "To reuse the CTEs the code will need to be duplicated across your code base, which is bad!\n",
    "\n",
    "You can instead define the CTEs as tables or views that can be reused (e.g. dbt).\n",
    "\n"
   ]
  },
  {
   "cell_type": "markdown",
   "id": "76f0e05f-6127-4daf-81d9-8e88bd062076",
   "metadata": {},
   "source": [
    "# Chapter 3"
   ]
  },
  {
   "cell_type": "code",
   "execution_count": null,
   "id": "fed3a00a-ae6f-4410-9ca8-f2d92b0ab582",
   "metadata": {},
   "outputs": [],
   "source": [
    "%%sql\n",
    "SELECT\n",
    "  o_custkey,\n",
    "  o_orderdate,\n",
    "  o_totalprice,\n",
    "  SUM(o_totalprice) -- FUNCTION \n",
    "  OVER (\n",
    "    PARTITION BY\n",
    "      o_custkey -- PARTITION\n",
    "    ORDER BY\n",
    "      o_orderdate -- ORDER BY; ASCENDING ORDER unless specified as DESC\n",
    "  ) AS running_sum\n",
    "FROM\n",
    "  orders\n",
    "WHERE\n",
    "  o_custkey = 4\n",
    "ORDER BY\n",
    "  o_orderdate\n",
    "LIMIT\n",
    "  10;"
   ]
  },
  {
   "cell_type": "code",
   "execution_count": null,
   "id": "dca04dc2-d761-4267-9a40-40ad769f984e",
   "metadata": {},
   "outputs": [],
   "source": [
    "%%sql\n",
    "SELECT\n",
    "  o_custkey,\n",
    "  o_orderdate,\n",
    "  o_totalprice,\n",
    "  AVG(o_totalprice) -- FUNCTION \n",
    "  OVER (\n",
    "    PARTITION BY\n",
    "      o_custkey -- PARTITION\n",
    "    ORDER BY\n",
    "      o_orderdate -- ORDER BY; ASCENDING ORDER unless specified as DESC\n",
    "  ) AS running_sum\n",
    "FROM\n",
    "  orders\n",
    "WHERE\n",
    "  o_custkey = 4\n",
    "ORDER BY\n",
    "  o_orderdate\n",
    "LIMIT\n",
    "  10;"
   ]
  },
  {
   "cell_type": "code",
   "execution_count": null,
   "id": "403f948d-318f-49dd-a637-2c8f1e3415b9",
   "metadata": {},
   "outputs": [],
   "source": [
    "%%sql\n",
    "SELECT\n",
    "  *\n",
    "FROM\n",
    "  (\n",
    "    SELECT\n",
    "      o_orderdate,\n",
    "      o_totalprice,\n",
    "      o_custkey,\n",
    "      RANK() -- RANKING FUNCTION \n",
    "      OVER (\n",
    "        PARTITION BY\n",
    "          o_orderdate -- PARTITION BY order date\n",
    "        ORDER BY\n",
    "          o_totalprice DESC -- ORDER rows withing partition by totalprice\n",
    "      ) AS rnk\n",
    "    FROM\n",
    "      orders\n",
    "  )\n",
    "WHERE\n",
    "  rnk <= 3\n",
    "ORDER BY\n",
    "  o_orderdate\n",
    "LIMIT\n",
    "  5;"
   ]
  },
  {
   "cell_type": "code",
   "execution_count": null,
   "id": "9b76e7eb-ef84-46ba-bb8a-a52d0a821494",
   "metadata": {},
   "outputs": [],
   "source": [
    "%%sql \n",
    "SELECT\n",
    "  *\n",
    "FROM\n",
    "  (\n",
    "    SELECT\n",
    "      o_orderdate,\n",
    "      o_totalprice,\n",
    "      o_custkey,\n",
    "      RANK() -- RANKING FUNCTION \n",
    "      OVER (\n",
    "        PARTITION BY\n",
    "          o_orderdate -- PARTITION BY order date\n",
    "        ORDER BY\n",
    "          o_totalprice -- ORDER rows withing partition by totalprice\n",
    "      ) AS rnk\n",
    "    FROM\n",
    "      orders\n",
    "  )\n",
    "WHERE\n",
    "  rnk <= 3\n",
    "ORDER BY\n",
    "  o_orderdate\n",
    "LIMIT\n",
    "  5;"
   ]
  },
  {
   "cell_type": "code",
   "execution_count": null,
   "id": "57724b26-f766-4820-b670-8c675d8ebf3f",
   "metadata": {},
   "outputs": [],
   "source": [
    "%%sql\n",
    "-- Let's look at an example showing the difference between RANK, DENSE_RANK and ROW_NUMBER\n",
    "SELECT\n",
    "  order_date,\n",
    "  order_id,\n",
    "  total_price,\n",
    "  ROW_NUMBER() OVER (\n",
    "    PARTITION BY\n",
    "      order_date\n",
    "    ORDER BY\n",
    "      total_price\n",
    "  ) AS ROW_NUMBER,\n",
    "  RANK() OVER (\n",
    "    PARTITION BY\n",
    "      order_date\n",
    "    ORDER BY\n",
    "      total_price\n",
    "  ) AS RANK,\n",
    "  DENSE_RANK() OVER (\n",
    "    PARTITION BY\n",
    "      order_date\n",
    "    ORDER BY\n",
    "      total_price\n",
    "  ) AS DENSE_RANK\n",
    "FROM\n",
    "  (\n",
    "    SELECT\n",
    "      '2024-07-08' AS order_date,\n",
    "      'order_1' AS order_id,\n",
    "      100 AS total_price\n",
    "    UNION ALL\n",
    "    SELECT\n",
    "      '2024-07-08',\n",
    "      'order_2',\n",
    "      200\n",
    "    UNION ALL\n",
    "    SELECT\n",
    "      '2024-07-08',\n",
    "      'order_3',\n",
    "      150\n",
    "    UNION ALL\n",
    "    SELECT\n",
    "      '2024-07-08',\n",
    "      'order_4',\n",
    "      90\n",
    "    UNION ALL\n",
    "    SELECT\n",
    "      '2024-07-08',\n",
    "      'order_5',\n",
    "      100\n",
    "    UNION ALL\n",
    "    SELECT\n",
    "      '2024-07-08',\n",
    "      'order_6',\n",
    "      90\n",
    "    UNION ALL\n",
    "    SELECT\n",
    "      '2024-07-08',\n",
    "      'order_7',\n",
    "      100\n",
    "    UNION ALL\n",
    "    SELECT\n",
    "      '2024-07-10',\n",
    "      'order_8',\n",
    "      100\n",
    "    UNION ALL\n",
    "    SELECT\n",
    "      '2024-07-10',\n",
    "      'order_9',\n",
    "      100\n",
    "    UNION ALL\n",
    "    SELECT\n",
    "      '2024-07-10',\n",
    "      'order_10',\n",
    "      100\n",
    "    UNION ALL\n",
    "    SELECT\n",
    "      '2024-07-11',\n",
    "      'order_11',\n",
    "      100\n",
    "  ) AS orders\n",
    "ORDER BY\n",
    "  order_date,\n",
    "  ROW_NUMBER;"
   ]
  },
  {
   "cell_type": "code",
   "execution_count": null,
   "id": "35369f24-b757-4cb8-98d5-52c4b2c60b89",
   "metadata": {
    "scrolled": true
   },
   "outputs": [],
   "source": [
    "%%sql\n",
    "SELECT\n",
    "  o_orderdate,\n",
    "  o_custkey,\n",
    "  o_totalprice,\n",
    "  o_totalprice - lag (o_totalprice) OVER (\n",
    "    PARTITION BY\n",
    "      o_custkey\n",
    "    ORDER BY\n",
    "      o_orderdate\n",
    "  ) AS totalprice_diff\n",
    "FROM\n",
    "  orders\n",
    "ORDER BY\n",
    "  o_custkey,\n",
    "  o_orderdate\n",
    "LIMIT\n",
    "  50;"
   ]
  },
  {
   "cell_type": "code",
   "execution_count": null,
   "id": "abf73659-e4b8-4b0b-96e9-6513c956c810",
   "metadata": {},
   "outputs": [],
   "source": [
    "%%sql\n",
    "SELECT\n",
    "  order_month,\n",
    "  o_custkey,\n",
    "  total_price,\n",
    "  ROUND(\n",
    "    AVG(total_price) OVER ( -- FUNCTION: RUNNING AVERAGE\n",
    "      PARTITION BY\n",
    "        o_custkey -- PARTITIONED BY customer\n",
    "      ORDER BY\n",
    "        order_month ROWS BETWEEN 1 PRECEDING\n",
    "        AND 1 FOLLOWING -- WINDOW FRAME DEFINED AS 1 ROW PRECEDING to 1 ROW FOLLOWING\n",
    "    ),\n",
    "    2\n",
    "  ) AS three_mo_total_price_avg\n",
    "FROM\n",
    "  (\n",
    "    SELECT\n",
    "      date_format (o_orderdate, 'yyyy-MM') AS order_month,\n",
    "      o_custkey,\n",
    "      SUM(o_totalprice) AS total_price\n",
    "    FROM\n",
    "      orders\n",
    "    GROUP BY\n",
    "      1,\n",
    "      2\n",
    "  )\n",
    "LIMIT\n",
    "  5;"
   ]
  },
  {
   "cell_type": "code",
   "execution_count": null,
   "id": "3e9bbdc9-e51c-45e2-bf2f-71ec5650a416",
   "metadata": {
    "scrolled": true
   },
   "outputs": [],
   "source": [
    "%%sql\n",
    "SELECT\n",
    "  order_month,\n",
    "  o_custkey,\n",
    "  total_price,\n",
    "  ROUND(\n",
    "    AVG(total_price) OVER (\n",
    "      PARTITION BY\n",
    "        o_custkey\n",
    "      ORDER BY\n",
    "        CAST(order_month AS DATE) RANGE BETWEEN INTERVAL '1' MONTH PRECEDING\n",
    "        AND INTERVAL '1' MONTH FOLLOWING\n",
    "    ),\n",
    "    2\n",
    "  ) AS consecutive_three_mo_total_price_avg,\n",
    "  ROUND(\n",
    "    AVG(total_price) OVER (\n",
    "      PARTITION BY\n",
    "        o_custkey\n",
    "      ORDER BY\n",
    "        order_month ROWS BETWEEN 1 PRECEDING\n",
    "        AND 1 FOLLOWING\n",
    "    ),\n",
    "    2\n",
    "  ) AS three_mo_total_price_avg\n",
    "FROM\n",
    "  (\n",
    "    SELECT\n",
    "      date_format (o_orderdate, 'yyyy-MM-01') AS order_month,\n",
    "      o_custkey,\n",
    "      SUM(o_totalprice) AS total_price\n",
    "    FROM\n",
    "      orders\n",
    "    GROUP BY\n",
    "      1,\n",
    "      2\n",
    "  )\n",
    "ORDER BY\n",
    "  o_custkey,\n",
    "  order_month\n",
    "LIMIT\n",
    "  50;"
   ]
  }
 ],
 "metadata": {
  "kernelspec": {
   "display_name": "Python 3 (ipykernel)",
   "language": "python",
   "name": "python3"
  },
  "language_info": {
   "codemirror_mode": {
    "name": "ipython",
    "version": 3
   },
   "file_extension": ".py",
   "mimetype": "text/x-python",
   "name": "python",
   "nbconvert_exporter": "python",
   "pygments_lexer": "ipython3",
   "version": "3.10.16"
  }
 },
 "nbformat": 4,
 "nbformat_minor": 5
}
